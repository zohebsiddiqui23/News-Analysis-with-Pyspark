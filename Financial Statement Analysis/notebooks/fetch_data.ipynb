{
 "cells": [
  {
   "cell_type": "code",
   "execution_count": null,
   "id": "af08e2bc",
   "metadata": {},
   "outputs": [
    {
     "ename": "ModuleNotFoundError",
     "evalue": "No module named 'src'",
     "output_type": "error",
     "traceback": [
      "\u001b[31m---------------------------------------------------------------------------\u001b[39m",
      "\u001b[31mModuleNotFoundError\u001b[39m                       Traceback (most recent call last)",
      "\u001b[36mCell\u001b[39m\u001b[36m \u001b[39m\u001b[32mIn[11]\u001b[39m\u001b[32m, line 9\u001b[39m\n\u001b[32m      6\u001b[39m \u001b[38;5;28;01mif\u001b[39;00m project_root \u001b[38;5;129;01mnot\u001b[39;00m \u001b[38;5;129;01min\u001b[39;00m sys.path:\n\u001b[32m      7\u001b[39m \tsys.path.insert(\u001b[32m0\u001b[39m, project_root)\n\u001b[32m----> \u001b[39m\u001b[32m9\u001b[39m \u001b[38;5;28;01mfrom\u001b[39;00m\u001b[38;5;250m \u001b[39m\u001b[34;01msrc\u001b[39;00m\u001b[34;01m.\u001b[39;00m\u001b[34;01mfmp_client\u001b[39;00m\u001b[38;5;250m \u001b[39m\u001b[38;5;28;01mimport\u001b[39;00m FMPClient\n\u001b[32m     10\u001b[39m \u001b[38;5;28;01mfrom\u001b[39;00m\u001b[38;5;250m \u001b[39m\u001b[34;01msrc\u001b[39;00m\u001b[34;01m.\u001b[39;00m\u001b[34;01mconfig\u001b[39;00m\u001b[38;5;250m \u001b[39m\u001b[38;5;28;01mimport\u001b[39;00m Config\n\u001b[32m     11\u001b[39m \u001b[38;5;28;01mimport\u001b[39;00m\u001b[38;5;250m \u001b[39m\u001b[34;01mpandas\u001b[39;00m\u001b[38;5;250m \u001b[39m\u001b[38;5;28;01mas\u001b[39;00m\u001b[38;5;250m \u001b[39m\u001b[34;01mpd\u001b[39;00m\n",
      "\u001b[31mModuleNotFoundError\u001b[39m: No module named 'src'"
     ]
    }
   ],
   "source": [
    "import sys\n",
    "sys.path.append('..')  # Add parent directory to path\n",
    "\n",
    "from src.fmp_client import FMPClient\n",
    "from src.config import Config\n",
    "import pandas as pd\n",
    "\n",
    "print(f\"Ready to fetch data for: {', '.join(Config.COMPANIES)}\")\n",
    "print(f\"Years to fetch: {Config.YEARS_TO_FETCH}\")"
   ]
  },
  {
   "cell_type": "code",
   "execution_count": 5,
   "id": "3d6ae49c",
   "metadata": {},
   "outputs": [
    {
     "ename": "NameError",
     "evalue": "name 'FMPClient' is not defined",
     "output_type": "error",
     "traceback": [
      "\u001b[31m---------------------------------------------------------------------------\u001b[39m",
      "\u001b[31mNameError\u001b[39m                                 Traceback (most recent call last)",
      "\u001b[36mCell\u001b[39m\u001b[36m \u001b[39m\u001b[32mIn[5]\u001b[39m\u001b[32m, line 1\u001b[39m\n\u001b[32m----> \u001b[39m\u001b[32m1\u001b[39m client = FMPClient()\n\u001b[32m      3\u001b[39m \u001b[38;5;66;03m# Fetch all data\u001b[39;00m\n\u001b[32m      4\u001b[39m summary = client.fetch_all_data()\n",
      "\u001b[31mNameError\u001b[39m: name 'FMPClient' is not defined"
     ]
    }
   ],
   "source": [
    "client = FMPClient()\n",
    "\n",
    "# Fetch all data\n",
    "summary = client.fetch_all_data()"
   ]
  },
  {
   "cell_type": "code",
   "execution_count": 6,
   "id": "d0f4c262",
   "metadata": {},
   "outputs": [
    {
     "ename": "NameError",
     "evalue": "name 'Config' is not defined",
     "output_type": "error",
     "traceback": [
      "\u001b[31m---------------------------------------------------------------------------\u001b[39m",
      "\u001b[31mNameError\u001b[39m                                 Traceback (most recent call last)",
      "\u001b[36mCell\u001b[39m\u001b[36m \u001b[39m\u001b[32mIn[6]\u001b[39m\u001b[32m, line 3\u001b[39m\n\u001b[32m      1\u001b[39m \u001b[38;5;28;01mimport\u001b[39;00m\u001b[38;5;250m \u001b[39m\u001b[34;01mos\u001b[39;00m\n\u001b[32m----> \u001b[39m\u001b[32m3\u001b[39m data_files = os.listdir(Config.RAW_DATA_PATH)\n\u001b[32m      4\u001b[39m \u001b[38;5;28mprint\u001b[39m(\u001b[33m\"\u001b[39m\u001b[33mDownloaded files:\u001b[39m\u001b[33m\"\u001b[39m)\n\u001b[32m      5\u001b[39m \u001b[38;5;28;01mfor\u001b[39;00m file \u001b[38;5;129;01min\u001b[39;00m data_files:\n",
      "\u001b[31mNameError\u001b[39m: name 'Config' is not defined"
     ]
    }
   ],
   "source": [
    "import os\n",
    "\n",
    "data_files = os.listdir(Config.RAW_DATA_PATH)\n",
    "print(\"Downloaded files:\")\n",
    "for file in data_files:\n",
    "    if file.endswith('.csv'):\n",
    "        df = pd.read_csv(f\"{Config.RAW_DATA_PATH}/{file}\")\n",
    "        print(f\"\\n{file}:\")\n",
    "        print(f\"  - Shape: {df.shape}\")\n",
    "        print(f\"  - Columns: {df.columns.tolist()[:5]}...\")  # First 5 columns\n",
    "        print(f\"  - Date range: {df['date'].min()} to {df['date'].max()}\" if 'date' in df.columns else \"\")"
   ]
  },
  {
   "cell_type": "code",
   "execution_count": 7,
   "id": "13f5c566",
   "metadata": {},
   "outputs": [
    {
     "ename": "NameError",
     "evalue": "name 'pd' is not defined",
     "output_type": "error",
     "traceback": [
      "\u001b[31m---------------------------------------------------------------------------\u001b[39m",
      "\u001b[31mNameError\u001b[39m                                 Traceback (most recent call last)",
      "\u001b[36mCell\u001b[39m\u001b[36m \u001b[39m\u001b[32mIn[7]\u001b[39m\u001b[32m, line 1\u001b[39m\n\u001b[32m----> \u001b[39m\u001b[32m1\u001b[39m income_df = pd.read_csv(\u001b[33mf\u001b[39m\u001b[33m\"\u001b[39m\u001b[38;5;132;01m{\u001b[39;00mConfig.RAW_DATA_PATH\u001b[38;5;132;01m}\u001b[39;00m\u001b[33m/income_statements.csv\u001b[39m\u001b[33m\"\u001b[39m)\n\u001b[32m      2\u001b[39m \u001b[38;5;28mprint\u001b[39m(\u001b[33m\"\u001b[39m\u001b[33mIncome Statement Preview:\u001b[39m\u001b[33m\"\u001b[39m)\n\u001b[32m      3\u001b[39m \u001b[38;5;28mprint\u001b[39m(income_df[[\u001b[33m'\u001b[39m\u001b[33msymbol\u001b[39m\u001b[33m'\u001b[39m, \u001b[33m'\u001b[39m\u001b[33mdate\u001b[39m\u001b[33m'\u001b[39m, \u001b[33m'\u001b[39m\u001b[33mrevenue\u001b[39m\u001b[33m'\u001b[39m, \u001b[33m'\u001b[39m\u001b[33mnetIncome\u001b[39m\u001b[33m'\u001b[39m, \u001b[33m'\u001b[39m\u001b[33meps\u001b[39m\u001b[33m'\u001b[39m]].head(\u001b[32m10\u001b[39m))\n",
      "\u001b[31mNameError\u001b[39m: name 'pd' is not defined"
     ]
    }
   ],
   "source": [
    "income_df = pd.read_csv(f\"{Config.RAW_DATA_PATH}/income_statements.csv\")\n",
    "print(\"Income Statement Preview:\")\n",
    "print(income_df[['symbol', 'date', 'revenue', 'netIncome', 'eps']].head(10))"
   ]
  },
  {
   "cell_type": "code",
   "execution_count": null,
   "id": "3542ed2f",
   "metadata": {},
   "outputs": [],
   "source": []
  }
 ],
 "metadata": {
  "kernelspec": {
   "display_name": "Python 3 (ipykernel)",
   "language": "python",
   "name": "python3"
  },
  "language_info": {
   "codemirror_mode": {
    "name": "ipython",
    "version": 3
   },
   "file_extension": ".py",
   "mimetype": "text/x-python",
   "name": "python",
   "nbconvert_exporter": "python",
   "pygments_lexer": "ipython3",
   "version": "3.12.10"
  }
 },
 "nbformat": 4,
 "nbformat_minor": 5
}
