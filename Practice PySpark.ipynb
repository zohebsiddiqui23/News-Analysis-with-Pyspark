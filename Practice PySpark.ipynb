{
 "cells": [
  {
   "cell_type": "code",
   "execution_count": 1,
   "id": "64d5e4a4-e4ee-458c-9f89-41e5f62b0eab",
   "metadata": {},
   "outputs": [
    {
     "name": "stdout",
     "output_type": "stream",
     "text": [
      "Collecting pyspark\n",
      "  Downloading pyspark-4.0.0.tar.gz (434.1 MB)\n",
      "\u001b[2K     \u001b[90m━━━━━━━━━━━━━━━━━━━━━━━━━━━━━━━━━━━━━━━\u001b[0m \u001b[32m434.1/434.1 MB\u001b[0m \u001b[31m3.0 MB/s\u001b[0m eta \u001b[36m0:00:00\u001b[0m00:01\u001b[0m00:05\u001b[0m\n",
      "  Preparing metadata (setup.py) ... \u001b[?25ldone\n",
      "\u001b[?25hCollecting py4j==0.10.9.9 (from pyspark)\n",
      "  Downloading py4j-0.10.9.9-py2.py3-none-any.whl.metadata (1.3 kB)\n",
      "Downloading py4j-0.10.9.9-py2.py3-none-any.whl (203 kB)\n",
      "Building wheels for collected packages: pyspark\n",
      "\u001b[33m  DEPRECATION: Building 'pyspark' using the legacy setup.py bdist_wheel mechanism, which will be removed in a future version. pip 25.3 will enforce this behaviour change. A possible replacement is to use the standardized build interface by setting the `--use-pep517` option, (possibly combined with `--no-build-isolation`), or adding a `pyproject.toml` file to the source tree of 'pyspark'. Discussion can be found at https://github.com/pypa/pip/issues/6334\u001b[0m\u001b[33m\n",
      "  Budone\n",
      "\u001b[?25h  Created wheel for pyspark: filename=pyspark-4.0.0-py2.py3-none-any.whl size=434741298 sha256=8e1a1a9d5605e51cb49d8794e34ded5681bf345fc75a93c4c7712d75b6fd2d1d\n",
      "  Stored in directory: /Users/whiplash/Library/Caches/pip/wheels/2d/77/9b/12660be70f7f447940a0caede37ae208b2e0d1c8487dce52a6\n",
      "Successfully built pyspark\n",
      "Installing collected packages: py4j, pyspark\n",
      "\u001b[2K   \u001b[90m━━━━━━━━━━━━━━━━━━━━━━━━━━━━━━━━━━━━━━━━\u001b[0m \u001b[32m2/2\u001b[0m [pyspark]m1/2\u001b[0m [pyspark]\n",
      "Successfully installed py4j-0.10.9.9 pyspark-4.0.0\n",
      "Note: you may need to restart the kernel to use updated packages.\n"
     ]
    }
   ],
   "source": [
    "pip install pyspark"
   ]
  },
  {
   "cell_type": "code",
   "execution_count": 1,
   "id": "3219cba7-f288-4b43-98f4-3ecbfc682a5f",
   "metadata": {},
   "outputs": [],
   "source": [
    "from pyspark.sql import SparkSession"
   ]
  },
  {
   "cell_type": "code",
   "execution_count": 2,
   "id": "63156fac-7fb0-46e8-944e-0405964fae73",
   "metadata": {},
   "outputs": [
    {
     "name": "stderr",
     "output_type": "stream",
     "text": [
      "25/06/04 13:56:14 WARN Utils: Your hostname, Zohebs-MacBook-Pro.local resolves to a loopback address: 127.0.0.1; using 192.168.2.90 instead (on interface en0)\n",
      "25/06/04 13:56:14 WARN Utils: Set SPARK_LOCAL_IP if you need to bind to another address\n",
      "WARNING: An illegal reflective access operation has occurred\n",
      "WARNING: Illegal reflective access by org.apache.spark.unsafe.Platform (file:/opt/homebrew/Caskroom/miniforge/base/envs/pyspark11/lib/python3.10/site-packages/pyspark/jars/spark-unsafe_2.12-3.2.1.jar) to constructor java.nio.DirectByteBuffer(long,int)\n",
      "WARNING: Please consider reporting this to the maintainers of org.apache.spark.unsafe.Platform\n",
      "WARNING: Use --illegal-access=warn to enable warnings of further illegal reflective access operations\n",
      "WARNING: All illegal access operations will be denied in a future release\n",
      "Using Spark's default log4j profile: org/apache/spark/log4j-defaults.properties\n",
      "Setting default log level to \"WARN\".\n",
      "To adjust logging level use sc.setLogLevel(newLevel). For SparkR, use setLogLevel(newLevel).\n",
      "25/06/04 13:56:15 WARN NativeCodeLoader: Unable to load native-hadoop library for your platform... using builtin-java classes where applicable\n"
     ]
    }
   ],
   "source": [
    "from pyspark.sql import SparkSession\n",
    "spark = SparkSession.builder.appName(\"Practise\").getOrCreate()"
   ]
  },
  {
   "cell_type": "code",
   "execution_count": 3,
   "id": "27aa0742-527d-406a-ae79-4ac8fca029fc",
   "metadata": {},
   "outputs": [
    {
     "data": {
      "text/html": [
       "\n",
       "            <div>\n",
       "                <p><b>SparkSession - in-memory</b></p>\n",
       "                \n",
       "        <div>\n",
       "            <p><b>SparkContext</b></p>\n",
       "\n",
       "            <p><a href=\"http://192.168.2.90:4040\">Spark UI</a></p>\n",
       "\n",
       "            <dl>\n",
       "              <dt>Version</dt>\n",
       "                <dd><code>v3.2.1</code></dd>\n",
       "              <dt>Master</dt>\n",
       "                <dd><code>local[*]</code></dd>\n",
       "              <dt>AppName</dt>\n",
       "                <dd><code>Practise</code></dd>\n",
       "            </dl>\n",
       "        </div>\n",
       "        \n",
       "            </div>\n",
       "        "
      ],
      "text/plain": [
       "<pyspark.sql.session.SparkSession at 0x110af4e20>"
      ]
     },
     "execution_count": 3,
     "metadata": {},
     "output_type": "execute_result"
    }
   ],
   "source": [
    "spark"
   ]
  },
  {
   "cell_type": "code",
   "execution_count": 4,
   "id": "897e061b-eeae-43f0-a5c3-b174bb5d9562",
   "metadata": {},
   "outputs": [],
   "source": [
    "df = spark.read.csv(\"titanic.csv\")"
   ]
  },
  {
   "cell_type": "code",
   "execution_count": 5,
   "id": "82cf3e62-227d-4431-a406-a38e6d37610b",
   "metadata": {},
   "outputs": [
    {
     "data": {
      "text/plain": [
       "DataFrame[_c0: string, _c1: string, _c2: string, _c3: string, _c4: string, _c5: string, _c6: string, _c7: string, _c8: string, _c9: string, _c10: string]"
      ]
     },
     "execution_count": 5,
     "metadata": {},
     "output_type": "execute_result"
    }
   ],
   "source": [
    "df"
   ]
  },
  {
   "cell_type": "code",
   "execution_count": 6,
   "id": "037b0ed9-fa3d-4e19-9bc6-29f09859da39",
   "metadata": {},
   "outputs": [
    {
     "name": "stdout",
     "output_type": "stream",
     "text": [
      "+--------------------+------+------------+-----+--------+-------------+--------+-------+-----+-----+--------+\n",
      "|                 _c0|   _c1|         _c2|  _c3|     _c4|          _c5|     _c6|    _c7|  _c8|  _c9|    _c10|\n",
      "+--------------------+------+------------+-----+--------+-------------+--------+-------+-----+-----+--------+\n",
      "|                name|gender|         age|class|embarked|      country|ticketno|   fare|sibsp|parch|survived|\n",
      "| Abbing, Mr. Anthony|  male|          42|  3rd|       S|United States|    5547|   7.11|    0|    0|      no|\n",
      "|Abbott, Mr. Eugen...|  male|          13|  3rd|       S|United States|    2673|  20.05|    0|    2|      no|\n",
      "|Abbott, Mr. Rossm...|  male|          16|  3rd|       S|United States|    2673|  20.05|    1|    1|      no|\n",
      "|Abbott, Mrs. Rhod...|female|          39|  3rd|       S|      England|    2673|  20.05|    1|    1|     yes|\n",
      "|Abelseth, Miss. K...|female|          16|  3rd|       S|       Norway|  348125|   7.13|    0|    0|     yes|\n",
      "|Abelseth, Mr. Ola...|  male|          25|  3rd|       S|United States|  348122|   7.13|    0|    0|     yes|\n",
      "| Abelson, Mr. Samuel|  male|          30|  2nd|       C|       France|    3381|     24|    1|    0|      no|\n",
      "|Abelson, Mrs. Hannah|female|          28|  2nd|       C|       France|    3381|     24|    1|    0|     yes|\n",
      "|Abī-Al-Munà, Mr. ...|  male|          27|  3rd|       C|      Lebanon|    2699|18.1509|    0|    0|     yes|\n",
      "|Abrahamsson, Mr. ...|  male|          20|  3rd|       S|      Finland| 3101284| 7.1806|    0|    0|     yes|\n",
      "|  Ådahl, Mr. Mauritz|  male|          30|  3rd|       S|       Sweden|    7076|   7.05|    0|    0|      no|\n",
      "|     Adams, Mr. John|  male|          27|  3rd|       S|      England|  341826|   8.01|    0|    0|      no|\n",
      "|Ahlin, Mrs. Johan...|female|          40|  3rd|       S|       Sweden|    7546| 9.0906|    1|    0|      no|\n",
      "|Aks, Master. Fran...|  male|0.8333333333|  3rd|       S|      England|  392091|   9.07|    0|    1|     yes|\n",
      "|      Aks, Mrs. Leah|female|          18|  3rd|       S|      England|  392091|   9.07|    0|    1|     yes|\n",
      "|Aldworth, Mr. Aug...|  male|          35|  2nd|       S|      England|  248744|     13|    0|    0|      no|\n",
      "|Alexander, Mr. Wi...|  male|          25|  3rd|       S|      England|    3474| 7.1709|    0|    0|      no|\n",
      "|Alhomäki, Mr. Ilm...|  male|          19|  3rd|       S|      Finland| 3101287| 7.1806|    0|    0|      no|\n",
      "|      Ali, Mr. Ahmed|  male|          24|  3rd|       S|    Argentina| 3101311|   7.01|    0|    0|      no|\n",
      "+--------------------+------+------------+-----+--------+-------------+--------+-------+-----+-----+--------+\n",
      "only showing top 20 rows\n",
      "\n"
     ]
    }
   ],
   "source": [
    "df.show()"
   ]
  },
  {
   "cell_type": "code",
   "execution_count": 7,
   "id": "c52040e4-d7d3-45aa-86ec-07251b8c0536",
   "metadata": {},
   "outputs": [
    {
     "name": "stdout",
     "output_type": "stream",
     "text": [
      "+--------------------+------+------------+-----+--------+-------------+--------+-------+-----+-----+--------+\n",
      "|                name|gender|         age|class|embarked|      country|ticketno|   fare|sibsp|parch|survived|\n",
      "+--------------------+------+------------+-----+--------+-------------+--------+-------+-----+-----+--------+\n",
      "| Abbing, Mr. Anthony|  male|          42|  3rd|       S|United States|    5547|   7.11|    0|    0|      no|\n",
      "|Abbott, Mr. Eugen...|  male|          13|  3rd|       S|United States|    2673|  20.05|    0|    2|      no|\n",
      "|Abbott, Mr. Rossm...|  male|          16|  3rd|       S|United States|    2673|  20.05|    1|    1|      no|\n",
      "|Abbott, Mrs. Rhod...|female|          39|  3rd|       S|      England|    2673|  20.05|    1|    1|     yes|\n",
      "|Abelseth, Miss. K...|female|          16|  3rd|       S|       Norway|  348125|   7.13|    0|    0|     yes|\n",
      "|Abelseth, Mr. Ola...|  male|          25|  3rd|       S|United States|  348122|   7.13|    0|    0|     yes|\n",
      "| Abelson, Mr. Samuel|  male|          30|  2nd|       C|       France|    3381|     24|    1|    0|      no|\n",
      "|Abelson, Mrs. Hannah|female|          28|  2nd|       C|       France|    3381|     24|    1|    0|     yes|\n",
      "|Abī-Al-Munà, Mr. ...|  male|          27|  3rd|       C|      Lebanon|    2699|18.1509|    0|    0|     yes|\n",
      "|Abrahamsson, Mr. ...|  male|          20|  3rd|       S|      Finland| 3101284| 7.1806|    0|    0|     yes|\n",
      "|  Ådahl, Mr. Mauritz|  male|          30|  3rd|       S|       Sweden|    7076|   7.05|    0|    0|      no|\n",
      "|     Adams, Mr. John|  male|          27|  3rd|       S|      England|  341826|   8.01|    0|    0|      no|\n",
      "|Ahlin, Mrs. Johan...|female|          40|  3rd|       S|       Sweden|    7546| 9.0906|    1|    0|      no|\n",
      "|Aks, Master. Fran...|  male|0.8333333333|  3rd|       S|      England|  392091|   9.07|    0|    1|     yes|\n",
      "|      Aks, Mrs. Leah|female|          18|  3rd|       S|      England|  392091|   9.07|    0|    1|     yes|\n",
      "|Aldworth, Mr. Aug...|  male|          35|  2nd|       S|      England|  248744|     13|    0|    0|      no|\n",
      "|Alexander, Mr. Wi...|  male|          25|  3rd|       S|      England|    3474| 7.1709|    0|    0|      no|\n",
      "|Alhomäki, Mr. Ilm...|  male|          19|  3rd|       S|      Finland| 3101287| 7.1806|    0|    0|      no|\n",
      "|      Ali, Mr. Ahmed|  male|          24|  3rd|       S|    Argentina| 3101311|   7.01|    0|    0|      no|\n",
      "|    Ali, Mr. William|  male|          25|  3rd|       S|    Argentina| 3101312|   7.01|    0|    0|      no|\n",
      "+--------------------+------+------------+-----+--------+-------------+--------+-------+-----+-----+--------+\n",
      "only showing top 20 rows\n",
      "\n"
     ]
    }
   ],
   "source": [
    "df = spark.read.option('header', 'true').csv('titanic.csv')\n",
    "df.show()"
   ]
  },
  {
   "cell_type": "code",
   "execution_count": 8,
   "id": "7846750a-817a-4569-b17c-a5e583037148",
   "metadata": {},
   "outputs": [
    {
     "data": {
      "text/plain": [
       "pyspark.sql.dataframe.DataFrame"
      ]
     },
     "execution_count": 8,
     "metadata": {},
     "output_type": "execute_result"
    }
   ],
   "source": [
    "type(df)"
   ]
  },
  {
   "cell_type": "code",
   "execution_count": 9,
   "id": "3377aeaf-84bc-4daf-b86a-155975febbdf",
   "metadata": {},
   "outputs": [
    {
     "data": {
      "text/plain": [
       "Row(name='Abbing, Mr. Anthony', gender='male', age='42', class='3rd', embarked='S', country='United States', ticketno='5547', fare='7.11', sibsp='0', parch='0', survived='no')"
      ]
     },
     "execution_count": 9,
     "metadata": {},
     "output_type": "execute_result"
    }
   ],
   "source": [
    "df.head()"
   ]
  },
  {
   "cell_type": "code",
   "execution_count": 10,
   "id": "a5103781-734d-4286-a593-2f4064e95c5e",
   "metadata": {},
   "outputs": [
    {
     "name": "stdout",
     "output_type": "stream",
     "text": [
      "root\n",
      " |-- name: string (nullable = true)\n",
      " |-- gender: string (nullable = true)\n",
      " |-- age: string (nullable = true)\n",
      " |-- class: string (nullable = true)\n",
      " |-- embarked: string (nullable = true)\n",
      " |-- country: string (nullable = true)\n",
      " |-- ticketno: string (nullable = true)\n",
      " |-- fare: string (nullable = true)\n",
      " |-- sibsp: string (nullable = true)\n",
      " |-- parch: string (nullable = true)\n",
      " |-- survived: string (nullable = true)\n",
      "\n"
     ]
    }
   ],
   "source": [
    "df.printSchema()"
   ]
  },
  {
   "cell_type": "code",
   "execution_count": 16,
   "id": "2d3dd0e8-4370-4a19-ba32-c85d9db54caf",
   "metadata": {},
   "outputs": [
    {
     "name": "stdout",
     "output_type": "stream",
     "text": [
      "root\n",
      " |-- name: string (nullable = true)\n",
      " |-- gender: string (nullable = true)\n",
      " |-- age: string (nullable = true)\n",
      " |-- class: string (nullable = true)\n",
      " |-- embarked: string (nullable = true)\n",
      " |-- country: string (nullable = true)\n",
      " |-- ticketno: string (nullable = true)\n",
      " |-- fare: string (nullable = true)\n",
      " |-- sibsp: string (nullable = true)\n",
      " |-- parch: string (nullable = true)\n",
      " |-- survived: string (nullable = true)\n",
      "\n"
     ]
    }
   ],
   "source": [
    "df1 = spark.read.csv(\"titanic.csv\", header=True, inferSchema=True)\n",
    "df1.printSchema()"
   ]
  },
  {
   "cell_type": "code",
   "execution_count": 14,
   "id": "8483e459-1c4f-4ea9-85c2-3c1e8e641584",
   "metadata": {},
   "outputs": [],
   "source": [
    "import pandas as pd"
   ]
  },
  {
   "cell_type": "code",
   "execution_count": 15,
   "id": "a70d60e9-51e9-454e-81fc-7adccbc359c7",
   "metadata": {},
   "outputs": [
    {
     "name": "stdout",
     "output_type": "stream",
     "text": [
      "<class 'pandas.core.frame.DataFrame'>\n",
      "RangeIndex: 2207 entries, 0 to 2206\n",
      "Data columns (total 11 columns):\n",
      " #   Column    Non-Null Count  Dtype  \n",
      "---  ------    --------------  -----  \n",
      " 0   name      2207 non-null   object \n",
      " 1   gender    2207 non-null   object \n",
      " 2   age       2205 non-null   float64\n",
      " 3   class     2207 non-null   object \n",
      " 4   embarked  2207 non-null   object \n",
      " 5   country   2126 non-null   object \n",
      " 6   ticketno  1316 non-null   float64\n",
      " 7   fare      1291 non-null   float64\n",
      " 8   sibsp     1307 non-null   float64\n",
      " 9   parch     1307 non-null   float64\n",
      " 10  survived  2207 non-null   object \n",
      "dtypes: float64(5), object(6)\n",
      "memory usage: 189.8+ KB\n"
     ]
    }
   ],
   "source": [
    "pandas_df = pd.read_csv(\"titanic.csv\")\n",
    "pandas_df.info()"
   ]
  },
  {
   "cell_type": "markdown",
   "id": "a4176016-f2a9-49de-a09e-f89ab735ff15",
   "metadata": {},
   "source": [
    "Even though you're using inferSchema=True in your Spark read.csv() call, all columns are still being read as string. This happens because Spark’s schema inference is limited when reading CSV files, especially if:\n",
    "\n",
    "The data has missing or inconsistent values.\n",
    "\n",
    "The header row is misleading or malformed.\n",
    "\n",
    "Spark reads only a small sample of data and can't confidently infer types.\n",
    "\n"
   ]
  },
  {
   "cell_type": "code",
   "execution_count": 17,
   "id": "b90d8d49-4be7-4758-a315-75bcd2f6b6ee",
   "metadata": {},
   "outputs": [
    {
     "name": "stdout",
     "output_type": "stream",
     "text": [
      "+--------------------+\n",
      "|                name|\n",
      "+--------------------+\n",
      "| Abbing, Mr. Anthony|\n",
      "|Abbott, Mr. Eugen...|\n",
      "|Abbott, Mr. Rossm...|\n",
      "|Abbott, Mrs. Rhod...|\n",
      "|Abelseth, Miss. K...|\n",
      "|Abelseth, Mr. Ola...|\n",
      "| Abelson, Mr. Samuel|\n",
      "|Abelson, Mrs. Hannah|\n",
      "|Abī-Al-Munà, Mr. ...|\n",
      "|Abrahamsson, Mr. ...|\n",
      "|  Ådahl, Mr. Mauritz|\n",
      "|     Adams, Mr. John|\n",
      "|Ahlin, Mrs. Johan...|\n",
      "|Aks, Master. Fran...|\n",
      "|      Aks, Mrs. Leah|\n",
      "|Aldworth, Mr. Aug...|\n",
      "|Alexander, Mr. Wi...|\n",
      "|Alhomäki, Mr. Ilm...|\n",
      "|      Ali, Mr. Ahmed|\n",
      "|    Ali, Mr. William|\n",
      "+--------------------+\n",
      "only showing top 20 rows\n",
      "\n"
     ]
    }
   ],
   "source": [
    "df.select(\"name\").show()"
   ]
  },
  {
   "cell_type": "code",
   "execution_count": 19,
   "id": "184d1e17-3869-491c-9a22-ec73e6ebcaac",
   "metadata": {},
   "outputs": [
    {
     "data": {
      "text/plain": [
       "[('name', 'string'),\n",
       " ('gender', 'string'),\n",
       " ('age', 'string'),\n",
       " ('class', 'string'),\n",
       " ('embarked', 'string'),\n",
       " ('country', 'string'),\n",
       " ('ticketno', 'string'),\n",
       " ('fare', 'string'),\n",
       " ('sibsp', 'string'),\n",
       " ('parch', 'string'),\n",
       " ('survived', 'string')]"
      ]
     },
     "execution_count": 19,
     "metadata": {},
     "output_type": "execute_result"
    }
   ],
   "source": [
    "df.dtypes"
   ]
  },
  {
   "cell_type": "code",
   "execution_count": 25,
   "id": "d339f1ae-3e1e-4897-9e9a-bd20fa7aecb0",
   "metadata": {},
   "outputs": [
    {
     "name": "stdout",
     "output_type": "stream",
     "text": [
      "+--------------------+------+------------+-----+--------+-------------+--------+-------+-----+-----+--------+----------+\n",
      "|                name|gender|         age|class|embarked|      country|ticketno|   fare|sibsp|parch|survived|name + age|\n",
      "+--------------------+------+------------+-----+--------+-------------+--------+-------+-----+-----+--------+----------+\n",
      "| Abbing, Mr. Anthony|  male|          42|  3rd|       S|United States|    5547|   7.11|    0|    0|      no|      null|\n",
      "|Abbott, Mr. Eugen...|  male|          13|  3rd|       S|United States|    2673|  20.05|    0|    2|      no|      null|\n",
      "|Abbott, Mr. Rossm...|  male|          16|  3rd|       S|United States|    2673|  20.05|    1|    1|      no|      null|\n",
      "|Abbott, Mrs. Rhod...|female|          39|  3rd|       S|      England|    2673|  20.05|    1|    1|     yes|      null|\n",
      "|Abelseth, Miss. K...|female|          16|  3rd|       S|       Norway|  348125|   7.13|    0|    0|     yes|      null|\n",
      "|Abelseth, Mr. Ola...|  male|          25|  3rd|       S|United States|  348122|   7.13|    0|    0|     yes|      null|\n",
      "| Abelson, Mr. Samuel|  male|          30|  2nd|       C|       France|    3381|     24|    1|    0|      no|      null|\n",
      "|Abelson, Mrs. Hannah|female|          28|  2nd|       C|       France|    3381|     24|    1|    0|     yes|      null|\n",
      "|Abī-Al-Munà, Mr. ...|  male|          27|  3rd|       C|      Lebanon|    2699|18.1509|    0|    0|     yes|      null|\n",
      "|Abrahamsson, Mr. ...|  male|          20|  3rd|       S|      Finland| 3101284| 7.1806|    0|    0|     yes|      null|\n",
      "|  Ådahl, Mr. Mauritz|  male|          30|  3rd|       S|       Sweden|    7076|   7.05|    0|    0|      no|      null|\n",
      "|     Adams, Mr. John|  male|          27|  3rd|       S|      England|  341826|   8.01|    0|    0|      no|      null|\n",
      "|Ahlin, Mrs. Johan...|female|          40|  3rd|       S|       Sweden|    7546| 9.0906|    1|    0|      no|      null|\n",
      "|Aks, Master. Fran...|  male|0.8333333333|  3rd|       S|      England|  392091|   9.07|    0|    1|     yes|      null|\n",
      "|      Aks, Mrs. Leah|female|          18|  3rd|       S|      England|  392091|   9.07|    0|    1|     yes|      null|\n",
      "|Aldworth, Mr. Aug...|  male|          35|  2nd|       S|      England|  248744|     13|    0|    0|      no|      null|\n",
      "|Alexander, Mr. Wi...|  male|          25|  3rd|       S|      England|    3474| 7.1709|    0|    0|      no|      null|\n",
      "|Alhomäki, Mr. Ilm...|  male|          19|  3rd|       S|      Finland| 3101287| 7.1806|    0|    0|      no|      null|\n",
      "|      Ali, Mr. Ahmed|  male|          24|  3rd|       S|    Argentina| 3101311|   7.01|    0|    0|      no|      null|\n",
      "|    Ali, Mr. William|  male|          25|  3rd|       S|    Argentina| 3101312|   7.01|    0|    0|      no|      null|\n",
      "+--------------------+------+------------+-----+--------+-------------+--------+-------+-----+-----+--------+----------+\n",
      "only showing top 20 rows\n",
      "\n"
     ]
    }
   ],
   "source": [
    "## add columns in the data frame\n",
    "df.withColumn(\"name + age\", df['name']+df['age']).show()"
   ]
  },
  {
   "cell_type": "code",
   "execution_count": 26,
   "id": "c96b527d-59ac-44bd-98b6-14cfab1a60da",
   "metadata": {},
   "outputs": [
    {
     "name": "stdout",
     "output_type": "stream",
     "text": [
      "+--------------------+------+------------+-----+--------+-------------+--------+-------+-----+-----+--------+\n",
      "|                name|gender|         age|class|embarked|      country|ticketno|   fare|sibsp|parch|survived|\n",
      "+--------------------+------+------------+-----+--------+-------------+--------+-------+-----+-----+--------+\n",
      "| Abbing, Mr. Anthony|  male|          42|  3rd|       S|United States|    5547|   7.11|    0|    0|      no|\n",
      "|Abbott, Mr. Eugen...|  male|          13|  3rd|       S|United States|    2673|  20.05|    0|    2|      no|\n",
      "|Abbott, Mr. Rossm...|  male|          16|  3rd|       S|United States|    2673|  20.05|    1|    1|      no|\n",
      "|Abbott, Mrs. Rhod...|female|          39|  3rd|       S|      England|    2673|  20.05|    1|    1|     yes|\n",
      "|Abelseth, Miss. K...|female|          16|  3rd|       S|       Norway|  348125|   7.13|    0|    0|     yes|\n",
      "|Abelseth, Mr. Ola...|  male|          25|  3rd|       S|United States|  348122|   7.13|    0|    0|     yes|\n",
      "| Abelson, Mr. Samuel|  male|          30|  2nd|       C|       France|    3381|     24|    1|    0|      no|\n",
      "|Abelson, Mrs. Hannah|female|          28|  2nd|       C|       France|    3381|     24|    1|    0|     yes|\n",
      "|Abī-Al-Munà, Mr. ...|  male|          27|  3rd|       C|      Lebanon|    2699|18.1509|    0|    0|     yes|\n",
      "|Abrahamsson, Mr. ...|  male|          20|  3rd|       S|      Finland| 3101284| 7.1806|    0|    0|     yes|\n",
      "|  Ådahl, Mr. Mauritz|  male|          30|  3rd|       S|       Sweden|    7076|   7.05|    0|    0|      no|\n",
      "|     Adams, Mr. John|  male|          27|  3rd|       S|      England|  341826|   8.01|    0|    0|      no|\n",
      "|Ahlin, Mrs. Johan...|female|          40|  3rd|       S|       Sweden|    7546| 9.0906|    1|    0|      no|\n",
      "|Aks, Master. Fran...|  male|0.8333333333|  3rd|       S|      England|  392091|   9.07|    0|    1|     yes|\n",
      "|      Aks, Mrs. Leah|female|          18|  3rd|       S|      England|  392091|   9.07|    0|    1|     yes|\n",
      "|Aldworth, Mr. Aug...|  male|          35|  2nd|       S|      England|  248744|     13|    0|    0|      no|\n",
      "|Alexander, Mr. Wi...|  male|          25|  3rd|       S|      England|    3474| 7.1709|    0|    0|      no|\n",
      "|Alhomäki, Mr. Ilm...|  male|          19|  3rd|       S|      Finland| 3101287| 7.1806|    0|    0|      no|\n",
      "|      Ali, Mr. Ahmed|  male|          24|  3rd|       S|    Argentina| 3101311|   7.01|    0|    0|      no|\n",
      "|    Ali, Mr. William|  male|          25|  3rd|       S|    Argentina| 3101312|   7.01|    0|    0|      no|\n",
      "+--------------------+------+------------+-----+--------+-------------+--------+-------+-----+-----+--------+\n",
      "only showing top 20 rows\n",
      "\n"
     ]
    }
   ],
   "source": [
    "df.show()"
   ]
  },
  {
   "cell_type": "code",
   "execution_count": 28,
   "id": "672d3027-b3d2-4f40-9a32-31c5e8379498",
   "metadata": {},
   "outputs": [
    {
     "name": "stdout",
     "output_type": "stream",
     "text": [
      "+--------------------+------+------------+-----+--------+-------------+--------+-------+-----+-----+--------+\n",
      "|                Name|gender|         age|class|embarked|      country|ticketno|   fare|sibsp|parch|survived|\n",
      "+--------------------+------+------------+-----+--------+-------------+--------+-------+-----+-----+--------+\n",
      "| Abbing, Mr. Anthony|  male|          42|  3rd|       S|United States|    5547|   7.11|    0|    0|      no|\n",
      "|Abbott, Mr. Eugen...|  male|          13|  3rd|       S|United States|    2673|  20.05|    0|    2|      no|\n",
      "|Abbott, Mr. Rossm...|  male|          16|  3rd|       S|United States|    2673|  20.05|    1|    1|      no|\n",
      "|Abbott, Mrs. Rhod...|female|          39|  3rd|       S|      England|    2673|  20.05|    1|    1|     yes|\n",
      "|Abelseth, Miss. K...|female|          16|  3rd|       S|       Norway|  348125|   7.13|    0|    0|     yes|\n",
      "|Abelseth, Mr. Ola...|  male|          25|  3rd|       S|United States|  348122|   7.13|    0|    0|     yes|\n",
      "| Abelson, Mr. Samuel|  male|          30|  2nd|       C|       France|    3381|     24|    1|    0|      no|\n",
      "|Abelson, Mrs. Hannah|female|          28|  2nd|       C|       France|    3381|     24|    1|    0|     yes|\n",
      "|Abī-Al-Munà, Mr. ...|  male|          27|  3rd|       C|      Lebanon|    2699|18.1509|    0|    0|     yes|\n",
      "|Abrahamsson, Mr. ...|  male|          20|  3rd|       S|      Finland| 3101284| 7.1806|    0|    0|     yes|\n",
      "|  Ådahl, Mr. Mauritz|  male|          30|  3rd|       S|       Sweden|    7076|   7.05|    0|    0|      no|\n",
      "|     Adams, Mr. John|  male|          27|  3rd|       S|      England|  341826|   8.01|    0|    0|      no|\n",
      "|Ahlin, Mrs. Johan...|female|          40|  3rd|       S|       Sweden|    7546| 9.0906|    1|    0|      no|\n",
      "|Aks, Master. Fran...|  male|0.8333333333|  3rd|       S|      England|  392091|   9.07|    0|    1|     yes|\n",
      "|      Aks, Mrs. Leah|female|          18|  3rd|       S|      England|  392091|   9.07|    0|    1|     yes|\n",
      "|Aldworth, Mr. Aug...|  male|          35|  2nd|       S|      England|  248744|     13|    0|    0|      no|\n",
      "|Alexander, Mr. Wi...|  male|          25|  3rd|       S|      England|    3474| 7.1709|    0|    0|      no|\n",
      "|Alhomäki, Mr. Ilm...|  male|          19|  3rd|       S|      Finland| 3101287| 7.1806|    0|    0|      no|\n",
      "|      Ali, Mr. Ahmed|  male|          24|  3rd|       S|    Argentina| 3101311|   7.01|    0|    0|      no|\n",
      "|    Ali, Mr. William|  male|          25|  3rd|       S|    Argentina| 3101312|   7.01|    0|    0|      no|\n",
      "+--------------------+------+------------+-----+--------+-------------+--------+-------+-----+-----+--------+\n",
      "only showing top 20 rows\n",
      "\n"
     ]
    }
   ],
   "source": [
    "df.withColumnRenamed(\"name\", \"Name\").show()"
   ]
  },
  {
   "cell_type": "code",
   "execution_count": 30,
   "id": "15b4bbe8-f359-4cf0-92d4-2fd5188b52cb",
   "metadata": {},
   "outputs": [
    {
     "name": "stdout",
     "output_type": "stream",
     "text": [
      "root\n",
      " |-- name: string (nullable = true)\n",
      " |-- gender: string (nullable = true)\n",
      " |-- age: double (nullable = true)\n",
      " |-- class: string (nullable = true)\n",
      " |-- embarked: string (nullable = true)\n",
      " |-- country: string (nullable = true)\n",
      " |-- ticketno: string (nullable = true)\n",
      " |-- fare: double (nullable = true)\n",
      " |-- sibsp: integer (nullable = true)\n",
      " |-- parch: integer (nullable = true)\n",
      " |-- survived: integer (nullable = true)\n",
      "\n"
     ]
    }
   ],
   "source": [
    "from pyspark.sql.types import StructType, StructField, StringType, IntegerType, DoubleType\n",
    "\n",
    "schema = StructType([\n",
    "    StructField(\"name\", StringType(), True),\n",
    "    StructField(\"gender\", StringType(), True),\n",
    "    StructField(\"age\", DoubleType(), True),\n",
    "    StructField(\"class\", StringType(), True),\n",
    "    StructField(\"embarked\", StringType(), True),\n",
    "    StructField(\"country\", StringType(), True),\n",
    "    StructField(\"ticketno\", StringType(), True),\n",
    "    StructField(\"fare\", DoubleType(), True),\n",
    "    StructField(\"sibsp\", IntegerType(), True),\n",
    "    StructField(\"parch\", IntegerType(), True),\n",
    "    StructField(\"survived\", IntegerType(), True)\n",
    "])\n",
    "df = spark.read.csv(\"titanic.csv\", header=True, schema=schema)\n",
    "df.printSchema()"
   ]
  },
  {
   "cell_type": "code",
   "execution_count": 33,
   "id": "44366370-858c-4c0a-bbb4-b37f9d4768d9",
   "metadata": {},
   "outputs": [],
   "source": [
    "df = df.withColumn(\"test\", df['age'])"
   ]
  },
  {
   "cell_type": "code",
   "execution_count": 34,
   "id": "fe8609bb-5346-4023-bccb-40dcc2b8b16f",
   "metadata": {},
   "outputs": [
    {
     "data": {
      "text/plain": [
       "Row(name='Abbing, Mr. Anthony', gender='male', age=42.0, class='3rd', embarked='S', country='United States', ticketno='5547', fare=7.11, sibsp=0, parch=0, survived=None, test=42.0)"
      ]
     },
     "execution_count": 34,
     "metadata": {},
     "output_type": "execute_result"
    }
   ],
   "source": [
    "df.head()"
   ]
  },
  {
   "cell_type": "code",
   "execution_count": 35,
   "id": "1b1817da-cfd0-43f9-919b-0b9519db9b1b",
   "metadata": {},
   "outputs": [
    {
     "data": {
      "text/plain": [
       "DataFrame[name: string, gender: string, age: double, class: string, embarked: string, country: string, ticketno: string, fare: double, sibsp: int, parch: int, survived: int]"
      ]
     },
     "execution_count": 35,
     "metadata": {},
     "output_type": "execute_result"
    }
   ],
   "source": [
    "df.drop(\"test\")"
   ]
  },
  {
   "cell_type": "code",
   "execution_count": 38,
   "id": "0e696730-a6af-4964-9d13-5def926708cd",
   "metadata": {},
   "outputs": [
    {
     "name": "stdout",
     "output_type": "stream",
     "text": [
      "+----+------+---+-----+--------+-------+--------+----+-----+-----+--------+----+\n",
      "|name|gender|age|class|embarked|country|ticketno|fare|sibsp|parch|survived|test|\n",
      "+----+------+---+-----+--------+-------+--------+----+-----+-----+--------+----+\n",
      "+----+------+---+-----+--------+-------+--------+----+-----+-----+--------+----+\n",
      "\n"
     ]
    }
   ],
   "source": [
    "df.na.drop().show()"
   ]
  },
  {
   "cell_type": "code",
   "execution_count": 40,
   "id": "fdce5575-77d1-4aa6-bb3d-96d3462b4f95",
   "metadata": {},
   "outputs": [
    {
     "name": "stdout",
     "output_type": "stream",
     "text": [
      "+--------------------+------+------------+-----+--------+-------------+--------+-------+-----+-----+--------+------------+\n",
      "|                name|gender|         age|class|embarked|      country|ticketno|   fare|sibsp|parch|survived|        test|\n",
      "+--------------------+------+------------+-----+--------+-------------+--------+-------+-----+-----+--------+------------+\n",
      "| Abbing, Mr. Anthony|  male|        42.0|  3rd|       S|United States|    5547|   7.11|    0|    0|    null|        42.0|\n",
      "|Abbott, Mr. Eugen...|  male|        13.0|  3rd|       S|United States|    2673|  20.05|    0|    2|    null|        13.0|\n",
      "|Abbott, Mr. Rossm...|  male|        16.0|  3rd|       S|United States|    2673|  20.05|    1|    1|    null|        16.0|\n",
      "|Abbott, Mrs. Rhod...|female|        39.0|  3rd|       S|      England|    2673|  20.05|    1|    1|    null|        39.0|\n",
      "|Abelseth, Miss. K...|female|        16.0|  3rd|       S|       Norway|  348125|   7.13|    0|    0|    null|        16.0|\n",
      "|Abelseth, Mr. Ola...|  male|        25.0|  3rd|       S|United States|  348122|   7.13|    0|    0|    null|        25.0|\n",
      "| Abelson, Mr. Samuel|  male|        30.0|  2nd|       C|       France|    3381|   24.0|    1|    0|    null|        30.0|\n",
      "|Abelson, Mrs. Hannah|female|        28.0|  2nd|       C|       France|    3381|   24.0|    1|    0|    null|        28.0|\n",
      "|Abī-Al-Munà, Mr. ...|  male|        27.0|  3rd|       C|      Lebanon|    2699|18.1509|    0|    0|    null|        27.0|\n",
      "|Abrahamsson, Mr. ...|  male|        20.0|  3rd|       S|      Finland| 3101284| 7.1806|    0|    0|    null|        20.0|\n",
      "|  Ådahl, Mr. Mauritz|  male|        30.0|  3rd|       S|       Sweden|    7076|   7.05|    0|    0|    null|        30.0|\n",
      "|     Adams, Mr. John|  male|        27.0|  3rd|       S|      England|  341826|   8.01|    0|    0|    null|        27.0|\n",
      "|Ahlin, Mrs. Johan...|female|        40.0|  3rd|       S|       Sweden|    7546| 9.0906|    1|    0|    null|        40.0|\n",
      "|Aks, Master. Fran...|  male|0.8333333333|  3rd|       S|      England|  392091|   9.07|    0|    1|    null|0.8333333333|\n",
      "|      Aks, Mrs. Leah|female|        18.0|  3rd|       S|      England|  392091|   9.07|    0|    1|    null|        18.0|\n",
      "|Aldworth, Mr. Aug...|  male|        35.0|  2nd|       S|      England|  248744|   13.0|    0|    0|    null|        35.0|\n",
      "|Alexander, Mr. Wi...|  male|        25.0|  3rd|       S|      England|    3474| 7.1709|    0|    0|    null|        25.0|\n",
      "|Alhomäki, Mr. Ilm...|  male|        19.0|  3rd|       S|      Finland| 3101287| 7.1806|    0|    0|    null|        19.0|\n",
      "|      Ali, Mr. Ahmed|  male|        24.0|  3rd|       S|    Argentina| 3101311|   7.01|    0|    0|    null|        24.0|\n",
      "|    Ali, Mr. William|  male|        25.0|  3rd|       S|    Argentina| 3101312|   7.01|    0|    0|    null|        25.0|\n",
      "+--------------------+------+------------+-----+--------+-------------+--------+-------+-----+-----+--------+------------+\n",
      "only showing top 20 rows\n",
      "\n"
     ]
    }
   ],
   "source": [
    "df.na.drop(how=\"any\", thresh=3).show()"
   ]
  },
  {
   "cell_type": "code",
   "execution_count": null,
   "id": "323d132b-8f89-4e21-9b31-24551a2912d5",
   "metadata": {},
   "outputs": [],
   "source": [
    "df.na.drop(how=\"any\", thresh=3).show()"
   ]
  }
 ],
 "metadata": {
  "kernelspec": {
   "display_name": "Python 3 (ipykernel)",
   "language": "python",
   "name": "python3"
  },
  "language_info": {
   "codemirror_mode": {
    "name": "ipython",
    "version": 3
   },
   "file_extension": ".py",
   "mimetype": "text/x-python",
   "name": "python",
   "nbconvert_exporter": "python",
   "pygments_lexer": "ipython3",
   "version": "3.10.16"
  }
 },
 "nbformat": 4,
 "nbformat_minor": 5
}
