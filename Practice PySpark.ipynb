{
 "cells": [
  {
   "cell_type": "code",
   "execution_count": 1,
   "id": "64d5e4a4-e4ee-458c-9f89-41e5f62b0eab",
   "metadata": {},
   "outputs": [
    {
     "name": "stdout",
     "output_type": "stream",
     "text": [
      "Collecting pyspark\n",
      "  Downloading pyspark-4.0.0.tar.gz (434.1 MB)\n",
      "\u001b[2K     \u001b[90m━━━━━━━━━━━━━━━━━━━━━━━━━━━━━━━━━━━━━━━\u001b[0m \u001b[32m434.1/434.1 MB\u001b[0m \u001b[31m3.0 MB/s\u001b[0m eta \u001b[36m0:00:00\u001b[0m00:01\u001b[0m00:05\u001b[0m\n",
      "  Preparing metadata (setup.py) ... \u001b[?25ldone\n",
      "\u001b[?25hCollecting py4j==0.10.9.9 (from pyspark)\n",
      "  Downloading py4j-0.10.9.9-py2.py3-none-any.whl.metadata (1.3 kB)\n",
      "Downloading py4j-0.10.9.9-py2.py3-none-any.whl (203 kB)\n",
      "Building wheels for collected packages: pyspark\n",
      "\u001b[33m  DEPRECATION: Building 'pyspark' using the legacy setup.py bdist_wheel mechanism, which will be removed in a future version. pip 25.3 will enforce this behaviour change. A possible replacement is to use the standardized build interface by setting the `--use-pep517` option, (possibly combined with `--no-build-isolation`), or adding a `pyproject.toml` file to the source tree of 'pyspark'. Discussion can be found at https://github.com/pypa/pip/issues/6334\u001b[0m\u001b[33m\n",
      "  Budone\n",
      "\u001b[?25h  Created wheel for pyspark: filename=pyspark-4.0.0-py2.py3-none-any.whl size=434741298 sha256=8e1a1a9d5605e51cb49d8794e34ded5681bf345fc75a93c4c7712d75b6fd2d1d\n",
      "  Stored in directory: /Users/whiplash/Library/Caches/pip/wheels/2d/77/9b/12660be70f7f447940a0caede37ae208b2e0d1c8487dce52a6\n",
      "Successfully built pyspark\n",
      "Installing collected packages: py4j, pyspark\n",
      "\u001b[2K   \u001b[90m━━━━━━━━━━━━━━━━━━━━━━━━━━━━━━━━━━━━━━━━\u001b[0m \u001b[32m2/2\u001b[0m [pyspark]m1/2\u001b[0m [pyspark]\n",
      "Successfully installed py4j-0.10.9.9 pyspark-4.0.0\n",
      "Note: you may need to restart the kernel to use updated packages.\n"
     ]
    }
   ],
   "source": [
    "pip install pyspark"
   ]
  },
  {
   "cell_type": "code",
   "execution_count": 1,
   "id": "3219cba7-f288-4b43-98f4-3ecbfc682a5f",
   "metadata": {},
   "outputs": [],
   "source": [
    "from pyspark.sql import SparkSession"
   ]
  },
  {
   "cell_type": "code",
   "execution_count": 2,
   "id": "63156fac-7fb0-46e8-944e-0405964fae73",
   "metadata": {},
   "outputs": [
    {
     "name": "stderr",
     "output_type": "stream",
     "text": [
      "25/06/04 13:56:14 WARN Utils: Your hostname, Zohebs-MacBook-Pro.local resolves to a loopback address: 127.0.0.1; using 192.168.2.90 instead (on interface en0)\n",
      "25/06/04 13:56:14 WARN Utils: Set SPARK_LOCAL_IP if you need to bind to another address\n",
      "WARNING: An illegal reflective access operation has occurred\n",
      "WARNING: Illegal reflective access by org.apache.spark.unsafe.Platform (file:/opt/homebrew/Caskroom/miniforge/base/envs/pyspark11/lib/python3.10/site-packages/pyspark/jars/spark-unsafe_2.12-3.2.1.jar) to constructor java.nio.DirectByteBuffer(long,int)\n",
      "WARNING: Please consider reporting this to the maintainers of org.apache.spark.unsafe.Platform\n",
      "WARNING: Use --illegal-access=warn to enable warnings of further illegal reflective access operations\n",
      "WARNING: All illegal access operations will be denied in a future release\n",
      "Using Spark's default log4j profile: org/apache/spark/log4j-defaults.properties\n",
      "Setting default log level to \"WARN\".\n",
      "To adjust logging level use sc.setLogLevel(newLevel). For SparkR, use setLogLevel(newLevel).\n",
      "25/06/04 13:56:15 WARN NativeCodeLoader: Unable to load native-hadoop library for your platform... using builtin-java classes where applicable\n"
     ]
    }
   ],
   "source": [
    "from pyspark.sql import SparkSession\n",
    "spark = SparkSession.builder.appName(\"Practise\").getOrCreate()"
   ]
  },
  {
   "cell_type": "code",
   "execution_count": 3,
   "id": "27aa0742-527d-406a-ae79-4ac8fca029fc",
   "metadata": {},
   "outputs": [
    {
     "data": {
      "text/html": [
       "\n",
       "            <div>\n",
       "                <p><b>SparkSession - in-memory</b></p>\n",
       "                \n",
       "        <div>\n",
       "            <p><b>SparkContext</b></p>\n",
       "\n",
       "            <p><a href=\"http://192.168.2.90:4040\">Spark UI</a></p>\n",
       "\n",
       "            <dl>\n",
       "              <dt>Version</dt>\n",
       "                <dd><code>v3.2.1</code></dd>\n",
       "              <dt>Master</dt>\n",
       "                <dd><code>local[*]</code></dd>\n",
       "              <dt>AppName</dt>\n",
       "                <dd><code>Practise</code></dd>\n",
       "            </dl>\n",
       "        </div>\n",
       "        \n",
       "            </div>\n",
       "        "
      ],
      "text/plain": [
       "<pyspark.sql.session.SparkSession at 0x110af4e20>"
      ]
     },
     "execution_count": 3,
     "metadata": {},
     "output_type": "execute_result"
    }
   ],
   "source": [
    "spark"
   ]
  },
  {
   "cell_type": "code",
   "execution_count": 4,
   "id": "897e061b-eeae-43f0-a5c3-b174bb5d9562",
   "metadata": {},
   "outputs": [],
   "source": [
    "df = spark.read.csv(\"titanic.csv\")"
   ]
  },
  {
   "cell_type": "code",
   "execution_count": 5,
   "id": "82cf3e62-227d-4431-a406-a38e6d37610b",
   "metadata": {},
   "outputs": [
    {
     "data": {
      "text/plain": [
       "DataFrame[_c0: string, _c1: string, _c2: string, _c3: string, _c4: string, _c5: string, _c6: string, _c7: string, _c8: string, _c9: string, _c10: string]"
      ]
     },
     "execution_count": 5,
     "metadata": {},
     "output_type": "execute_result"
    }
   ],
   "source": [
    "df"
   ]
  },
  {
   "cell_type": "code",
   "execution_count": 6,
   "id": "037b0ed9-fa3d-4e19-9bc6-29f09859da39",
   "metadata": {},
   "outputs": [
    {
     "name": "stdout",
     "output_type": "stream",
     "text": [
      "+--------------------+------+------------+-----+--------+-------------+--------+-------+-----+-----+--------+\n",
      "|                 _c0|   _c1|         _c2|  _c3|     _c4|          _c5|     _c6|    _c7|  _c8|  _c9|    _c10|\n",
      "+--------------------+------+------------+-----+--------+-------------+--------+-------+-----+-----+--------+\n",
      "|                name|gender|         age|class|embarked|      country|ticketno|   fare|sibsp|parch|survived|\n",
      "| Abbing, Mr. Anthony|  male|          42|  3rd|       S|United States|    5547|   7.11|    0|    0|      no|\n",
      "|Abbott, Mr. Eugen...|  male|          13|  3rd|       S|United States|    2673|  20.05|    0|    2|      no|\n",
      "|Abbott, Mr. Rossm...|  male|          16|  3rd|       S|United States|    2673|  20.05|    1|    1|      no|\n",
      "|Abbott, Mrs. Rhod...|female|          39|  3rd|       S|      England|    2673|  20.05|    1|    1|     yes|\n",
      "|Abelseth, Miss. K...|female|          16|  3rd|       S|       Norway|  348125|   7.13|    0|    0|     yes|\n",
      "|Abelseth, Mr. Ola...|  male|          25|  3rd|       S|United States|  348122|   7.13|    0|    0|     yes|\n",
      "| Abelson, Mr. Samuel|  male|          30|  2nd|       C|       France|    3381|     24|    1|    0|      no|\n",
      "|Abelson, Mrs. Hannah|female|          28|  2nd|       C|       France|    3381|     24|    1|    0|     yes|\n",
      "|Abī-Al-Munà, Mr. ...|  male|          27|  3rd|       C|      Lebanon|    2699|18.1509|    0|    0|     yes|\n",
      "|Abrahamsson, Mr. ...|  male|          20|  3rd|       S|      Finland| 3101284| 7.1806|    0|    0|     yes|\n",
      "|  Ådahl, Mr. Mauritz|  male|          30|  3rd|       S|       Sweden|    7076|   7.05|    0|    0|      no|\n",
      "|     Adams, Mr. John|  male|          27|  3rd|       S|      England|  341826|   8.01|    0|    0|      no|\n",
      "|Ahlin, Mrs. Johan...|female|          40|  3rd|       S|       Sweden|    7546| 9.0906|    1|    0|      no|\n",
      "|Aks, Master. Fran...|  male|0.8333333333|  3rd|       S|      England|  392091|   9.07|    0|    1|     yes|\n",
      "|      Aks, Mrs. Leah|female|          18|  3rd|       S|      England|  392091|   9.07|    0|    1|     yes|\n",
      "|Aldworth, Mr. Aug...|  male|          35|  2nd|       S|      England|  248744|     13|    0|    0|      no|\n",
      "|Alexander, Mr. Wi...|  male|          25|  3rd|       S|      England|    3474| 7.1709|    0|    0|      no|\n",
      "|Alhomäki, Mr. Ilm...|  male|          19|  3rd|       S|      Finland| 3101287| 7.1806|    0|    0|      no|\n",
      "|      Ali, Mr. Ahmed|  male|          24|  3rd|       S|    Argentina| 3101311|   7.01|    0|    0|      no|\n",
      "+--------------------+------+------------+-----+--------+-------------+--------+-------+-----+-----+--------+\n",
      "only showing top 20 rows\n",
      "\n"
     ]
    }
   ],
   "source": [
    "df.show()"
   ]
  },
  {
   "cell_type": "code",
   "execution_count": null,
   "id": "c52040e4-d7d3-45aa-86ec-07251b8c0536",
   "metadata": {},
   "outputs": [],
   "source": [
    "spark."
   ]
  }
 ],
 "metadata": {
  "kernelspec": {
   "display_name": "Python 3 (ipykernel)",
   "language": "python",
   "name": "python3"
  },
  "language_info": {
   "codemirror_mode": {
    "name": "ipython",
    "version": 3
   },
   "file_extension": ".py",
   "mimetype": "text/x-python",
   "name": "python",
   "nbconvert_exporter": "python",
   "pygments_lexer": "ipython3",
   "version": "3.10.16"
  }
 },
 "nbformat": 4,
 "nbformat_minor": 5
}
