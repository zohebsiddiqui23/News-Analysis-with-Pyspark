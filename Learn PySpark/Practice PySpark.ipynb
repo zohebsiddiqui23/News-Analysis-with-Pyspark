{
 "cells": [
  {
   "cell_type": "code",
   "execution_count": 1,
   "id": "63156fac-7fb0-46e8-944e-0405964fae73",
   "metadata": {},
   "outputs": [
    {
     "name": "stderr",
     "output_type": "stream",
     "text": [
      "25/06/08 21:15:59 WARN Utils: Your hostname, Zohebs-MacBook-Pro.local resolves to a loopback address: 127.0.0.1; using 192.168.2.90 instead (on interface en0)\n",
      "25/06/08 21:15:59 WARN Utils: Set SPARK_LOCAL_IP if you need to bind to another address\n",
      "WARNING: An illegal reflective access operation has occurred\n",
      "WARNING: Illegal reflective access by org.apache.spark.unsafe.Platform (file:/opt/homebrew/Caskroom/miniforge/base/envs/pyspark11/lib/python3.10/site-packages/pyspark/jars/spark-unsafe_2.12-3.2.1.jar) to constructor java.nio.DirectByteBuffer(long,int)\n",
      "WARNING: Please consider reporting this to the maintainers of org.apache.spark.unsafe.Platform\n",
      "WARNING: Use --illegal-access=warn to enable warnings of further illegal reflective access operations\n",
      "WARNING: All illegal access operations will be denied in a future release\n",
      "Using Spark's default log4j profile: org/apache/spark/log4j-defaults.properties\n",
      "Setting default log level to \"WARN\".\n",
      "To adjust logging level use sc.setLogLevel(newLevel). For SparkR, use setLogLevel(newLevel).\n",
      "25/06/08 21:16:00 WARN NativeCodeLoader: Unable to load native-hadoop library for your platform... using builtin-java classes where applicable\n"
     ]
    }
   ],
   "source": [
    "from pyspark.sql import SparkSession\n",
    "spark = SparkSession.builder.appName(\"Practise\").getOrCreate()"
   ]
  },
  {
   "cell_type": "code",
   "execution_count": 2,
   "id": "27aa0742-527d-406a-ae79-4ac8fca029fc",
   "metadata": {},
   "outputs": [
    {
     "data": {
      "text/html": [
       "\n",
       "            <div>\n",
       "                <p><b>SparkSession - in-memory</b></p>\n",
       "                \n",
       "        <div>\n",
       "            <p><b>SparkContext</b></p>\n",
       "\n",
       "            <p><a href=\"http://192.168.2.90:4040\">Spark UI</a></p>\n",
       "\n",
       "            <dl>\n",
       "              <dt>Version</dt>\n",
       "                <dd><code>v3.2.1</code></dd>\n",
       "              <dt>Master</dt>\n",
       "                <dd><code>local[*]</code></dd>\n",
       "              <dt>AppName</dt>\n",
       "                <dd><code>Practise</code></dd>\n",
       "            </dl>\n",
       "        </div>\n",
       "        \n",
       "            </div>\n",
       "        "
      ],
      "text/plain": [
       "<pyspark.sql.session.SparkSession at 0x117e59090>"
      ]
     },
     "execution_count": 2,
     "metadata": {},
     "output_type": "execute_result"
    }
   ],
   "source": [
    "spark"
   ]
  },
  {
   "cell_type": "code",
   "execution_count": 1,
   "id": "897e061b-eeae-43f0-a5c3-b174bb5d9562",
   "metadata": {},
   "outputs": [
    {
     "ename": "NameError",
     "evalue": "name 'spark' is not defined",
     "output_type": "error",
     "traceback": [
      "\u001b[0;31m---------------------------------------------------------------------------\u001b[0m",
      "\u001b[0;31mNameError\u001b[0m                                 Traceback (most recent call last)",
      "Cell \u001b[0;32mIn[1], line 1\u001b[0m\n\u001b[0;32m----> 1\u001b[0m df \u001b[38;5;241m=\u001b[39m \u001b[43mspark\u001b[49m\u001b[38;5;241m.\u001b[39mread\u001b[38;5;241m.\u001b[39mcsv(\u001b[38;5;124m\"\u001b[39m\u001b[38;5;124mfinancial_news_complete_content.csv\u001b[39m\u001b[38;5;124m\"\u001b[39m)\n",
      "\u001b[0;31mNameError\u001b[0m: name 'spark' is not defined"
     ]
    }
   ],
   "source": [
    "df = spark.read.csv(\"titanic.csv\")"
   ]
  },
  {
   "cell_type": "code",
   "execution_count": 4,
   "id": "82cf3e62-227d-4431-a406-a38e6d37610b",
   "metadata": {},
   "outputs": [
    {
     "data": {
      "text/plain": [
       "DataFrame[_c0: string, _c1: string, _c2: string, _c3: string, _c4: string, _c5: string, _c6: string, _c7: string, _c8: string, _c9: string, _c10: string]"
      ]
     },
     "execution_count": 4,
     "metadata": {},
     "output_type": "execute_result"
    }
   ],
   "source": [
    "df"
   ]
  },
  {
   "cell_type": "code",
   "execution_count": 5,
   "id": "037b0ed9-fa3d-4e19-9bc6-29f09859da39",
   "metadata": {},
   "outputs": [
    {
     "name": "stdout",
     "output_type": "stream",
     "text": [
      "+--------------------+------+------------+-----+--------+-------------+--------+-------+-----+-----+--------+\n",
      "|                 _c0|   _c1|         _c2|  _c3|     _c4|          _c5|     _c6|    _c7|  _c8|  _c9|    _c10|\n",
      "+--------------------+------+------------+-----+--------+-------------+--------+-------+-----+-----+--------+\n",
      "|                name|gender|         age|class|embarked|      country|ticketno|   fare|sibsp|parch|survived|\n",
      "| Abbing, Mr. Anthony|  male|          42|  3rd|       S|United States|    5547|   7.11|    0|    0|      no|\n",
      "|Abbott, Mr. Eugen...|  male|          13|  3rd|       S|United States|    2673|  20.05|    0|    2|      no|\n",
      "|Abbott, Mr. Rossm...|  male|          16|  3rd|       S|United States|    2673|  20.05|    1|    1|      no|\n",
      "|Abbott, Mrs. Rhod...|female|          39|  3rd|       S|      England|    2673|  20.05|    1|    1|     yes|\n",
      "|Abelseth, Miss. K...|female|          16|  3rd|       S|       Norway|  348125|   7.13|    0|    0|     yes|\n",
      "|Abelseth, Mr. Ola...|  male|          25|  3rd|       S|United States|  348122|   7.13|    0|    0|     yes|\n",
      "| Abelson, Mr. Samuel|  male|          30|  2nd|       C|       France|    3381|     24|    1|    0|      no|\n",
      "|Abelson, Mrs. Hannah|female|          28|  2nd|       C|       France|    3381|     24|    1|    0|     yes|\n",
      "|Abī-Al-Munà, Mr. ...|  male|          27|  3rd|       C|      Lebanon|    2699|18.1509|    0|    0|     yes|\n",
      "|Abrahamsson, Mr. ...|  male|          20|  3rd|       S|      Finland| 3101284| 7.1806|    0|    0|     yes|\n",
      "|  Ådahl, Mr. Mauritz|  male|          30|  3rd|       S|       Sweden|    7076|   7.05|    0|    0|      no|\n",
      "|     Adams, Mr. John|  male|          27|  3rd|       S|      England|  341826|   8.01|    0|    0|      no|\n",
      "|Ahlin, Mrs. Johan...|female|          40|  3rd|       S|       Sweden|    7546| 9.0906|    1|    0|      no|\n",
      "|Aks, Master. Fran...|  male|0.8333333333|  3rd|       S|      England|  392091|   9.07|    0|    1|     yes|\n",
      "|      Aks, Mrs. Leah|female|          18|  3rd|       S|      England|  392091|   9.07|    0|    1|     yes|\n",
      "|Aldworth, Mr. Aug...|  male|          35|  2nd|       S|      England|  248744|     13|    0|    0|      no|\n",
      "|Alexander, Mr. Wi...|  male|          25|  3rd|       S|      England|    3474| 7.1709|    0|    0|      no|\n",
      "|Alhomäki, Mr. Ilm...|  male|          19|  3rd|       S|      Finland| 3101287| 7.1806|    0|    0|      no|\n",
      "|      Ali, Mr. Ahmed|  male|          24|  3rd|       S|    Argentina| 3101311|   7.01|    0|    0|      no|\n",
      "+--------------------+------+------------+-----+--------+-------------+--------+-------+-----+-----+--------+\n",
      "only showing top 20 rows\n",
      "\n"
     ]
    }
   ],
   "source": [
    "df.show()"
   ]
  },
  {
   "cell_type": "code",
   "execution_count": 6,
   "id": "c52040e4-d7d3-45aa-86ec-07251b8c0536",
   "metadata": {},
   "outputs": [
    {
     "name": "stdout",
     "output_type": "stream",
     "text": [
      "+--------------------+------+------------+-----+--------+-------------+--------+-------+-----+-----+--------+\n",
      "|                name|gender|         age|class|embarked|      country|ticketno|   fare|sibsp|parch|survived|\n",
      "+--------------------+------+------------+-----+--------+-------------+--------+-------+-----+-----+--------+\n",
      "| Abbing, Mr. Anthony|  male|          42|  3rd|       S|United States|    5547|   7.11|    0|    0|      no|\n",
      "|Abbott, Mr. Eugen...|  male|          13|  3rd|       S|United States|    2673|  20.05|    0|    2|      no|\n",
      "|Abbott, Mr. Rossm...|  male|          16|  3rd|       S|United States|    2673|  20.05|    1|    1|      no|\n",
      "|Abbott, Mrs. Rhod...|female|          39|  3rd|       S|      England|    2673|  20.05|    1|    1|     yes|\n",
      "|Abelseth, Miss. K...|female|          16|  3rd|       S|       Norway|  348125|   7.13|    0|    0|     yes|\n",
      "|Abelseth, Mr. Ola...|  male|          25|  3rd|       S|United States|  348122|   7.13|    0|    0|     yes|\n",
      "| Abelson, Mr. Samuel|  male|          30|  2nd|       C|       France|    3381|     24|    1|    0|      no|\n",
      "|Abelson, Mrs. Hannah|female|          28|  2nd|       C|       France|    3381|     24|    1|    0|     yes|\n",
      "|Abī-Al-Munà, Mr. ...|  male|          27|  3rd|       C|      Lebanon|    2699|18.1509|    0|    0|     yes|\n",
      "|Abrahamsson, Mr. ...|  male|          20|  3rd|       S|      Finland| 3101284| 7.1806|    0|    0|     yes|\n",
      "|  Ådahl, Mr. Mauritz|  male|          30|  3rd|       S|       Sweden|    7076|   7.05|    0|    0|      no|\n",
      "|     Adams, Mr. John|  male|          27|  3rd|       S|      England|  341826|   8.01|    0|    0|      no|\n",
      "|Ahlin, Mrs. Johan...|female|          40|  3rd|       S|       Sweden|    7546| 9.0906|    1|    0|      no|\n",
      "|Aks, Master. Fran...|  male|0.8333333333|  3rd|       S|      England|  392091|   9.07|    0|    1|     yes|\n",
      "|      Aks, Mrs. Leah|female|          18|  3rd|       S|      England|  392091|   9.07|    0|    1|     yes|\n",
      "|Aldworth, Mr. Aug...|  male|          35|  2nd|       S|      England|  248744|     13|    0|    0|      no|\n",
      "|Alexander, Mr. Wi...|  male|          25|  3rd|       S|      England|    3474| 7.1709|    0|    0|      no|\n",
      "|Alhomäki, Mr. Ilm...|  male|          19|  3rd|       S|      Finland| 3101287| 7.1806|    0|    0|      no|\n",
      "|      Ali, Mr. Ahmed|  male|          24|  3rd|       S|    Argentina| 3101311|   7.01|    0|    0|      no|\n",
      "|    Ali, Mr. William|  male|          25|  3rd|       S|    Argentina| 3101312|   7.01|    0|    0|      no|\n",
      "+--------------------+------+------------+-----+--------+-------------+--------+-------+-----+-----+--------+\n",
      "only showing top 20 rows\n",
      "\n"
     ]
    }
   ],
   "source": [
    "df = spark.read.option('header', 'true').csv('titanic.csv')\n",
    "df.show()"
   ]
  },
  {
   "cell_type": "code",
   "execution_count": 7,
   "id": "7846750a-817a-4569-b17c-a5e583037148",
   "metadata": {},
   "outputs": [
    {
     "data": {
      "text/plain": [
       "pyspark.sql.dataframe.DataFrame"
      ]
     },
     "execution_count": 7,
     "metadata": {},
     "output_type": "execute_result"
    }
   ],
   "source": [
    "type(df)"
   ]
  },
  {
   "cell_type": "code",
   "execution_count": 8,
   "id": "3377aeaf-84bc-4daf-b86a-155975febbdf",
   "metadata": {},
   "outputs": [
    {
     "data": {
      "text/plain": [
       "Row(name='Abbing, Mr. Anthony', gender='male', age='42', class='3rd', embarked='S', country='United States', ticketno='5547', fare='7.11', sibsp='0', parch='0', survived='no')"
      ]
     },
     "execution_count": 8,
     "metadata": {},
     "output_type": "execute_result"
    }
   ],
   "source": [
    "df.head()"
   ]
  },
  {
   "cell_type": "code",
   "execution_count": 9,
   "id": "a5103781-734d-4286-a593-2f4064e95c5e",
   "metadata": {},
   "outputs": [
    {
     "name": "stdout",
     "output_type": "stream",
     "text": [
      "root\n",
      " |-- name: string (nullable = true)\n",
      " |-- gender: string (nullable = true)\n",
      " |-- age: string (nullable = true)\n",
      " |-- class: string (nullable = true)\n",
      " |-- embarked: string (nullable = true)\n",
      " |-- country: string (nullable = true)\n",
      " |-- ticketno: string (nullable = true)\n",
      " |-- fare: string (nullable = true)\n",
      " |-- sibsp: string (nullable = true)\n",
      " |-- parch: string (nullable = true)\n",
      " |-- survived: string (nullable = true)\n",
      "\n"
     ]
    }
   ],
   "source": [
    "df.printSchema()"
   ]
  },
  {
   "cell_type": "code",
   "execution_count": 10,
   "id": "2d3dd0e8-4370-4a19-ba32-c85d9db54caf",
   "metadata": {},
   "outputs": [
    {
     "name": "stdout",
     "output_type": "stream",
     "text": [
      "root\n",
      " |-- name: string (nullable = true)\n",
      " |-- gender: string (nullable = true)\n",
      " |-- age: string (nullable = true)\n",
      " |-- class: string (nullable = true)\n",
      " |-- embarked: string (nullable = true)\n",
      " |-- country: string (nullable = true)\n",
      " |-- ticketno: string (nullable = true)\n",
      " |-- fare: string (nullable = true)\n",
      " |-- sibsp: string (nullable = true)\n",
      " |-- parch: string (nullable = true)\n",
      " |-- survived: string (nullable = true)\n",
      "\n"
     ]
    }
   ],
   "source": [
    "df1 = spark.read.csv(\"titanic.csv\", header=True, inferSchema=True)\n",
    "df1.printSchema()"
   ]
  },
  {
   "cell_type": "code",
   "execution_count": 11,
   "id": "8483e459-1c4f-4ea9-85c2-3c1e8e641584",
   "metadata": {},
   "outputs": [],
   "source": [
    "import pandas as pd"
   ]
  },
  {
   "cell_type": "code",
   "execution_count": 12,
   "id": "a70d60e9-51e9-454e-81fc-7adccbc359c7",
   "metadata": {},
   "outputs": [
    {
     "name": "stdout",
     "output_type": "stream",
     "text": [
      "<class 'pandas.core.frame.DataFrame'>\n",
      "RangeIndex: 2207 entries, 0 to 2206\n",
      "Data columns (total 11 columns):\n",
      " #   Column    Non-Null Count  Dtype  \n",
      "---  ------    --------------  -----  \n",
      " 0   name      2207 non-null   object \n",
      " 1   gender    2207 non-null   object \n",
      " 2   age       2205 non-null   float64\n",
      " 3   class     2207 non-null   object \n",
      " 4   embarked  2207 non-null   object \n",
      " 5   country   2126 non-null   object \n",
      " 6   ticketno  1316 non-null   float64\n",
      " 7   fare      1291 non-null   float64\n",
      " 8   sibsp     1307 non-null   float64\n",
      " 9   parch     1307 non-null   float64\n",
      " 10  survived  2207 non-null   object \n",
      "dtypes: float64(5), object(6)\n",
      "memory usage: 189.8+ KB\n"
     ]
    }
   ],
   "source": [
    "pandas_df = pd.read_csv(\"titanic.csv\")\n",
    "pandas_df.info()"
   ]
  },
  {
   "cell_type": "markdown",
   "id": "a4176016-f2a9-49de-a09e-f89ab735ff15",
   "metadata": {},
   "source": [
    "Even though you're using inferSchema=True in your Spark read.csv() call, all columns are still being read as string. This happens because Spark’s schema inference is limited when reading CSV files, especially if:\n",
    "\n",
    "The data has missing or inconsistent values.\n",
    "\n",
    "The header row is misleading or malformed.\n",
    "\n",
    "Spark reads only a small sample of data and can't confidently infer types.\n",
    "\n"
   ]
  },
  {
   "cell_type": "code",
   "execution_count": 13,
   "id": "b90d8d49-4be7-4758-a315-75bcd2f6b6ee",
   "metadata": {},
   "outputs": [
    {
     "name": "stdout",
     "output_type": "stream",
     "text": [
      "+--------------------+\n",
      "|                name|\n",
      "+--------------------+\n",
      "| Abbing, Mr. Anthony|\n",
      "|Abbott, Mr. Eugen...|\n",
      "|Abbott, Mr. Rossm...|\n",
      "|Abbott, Mrs. Rhod...|\n",
      "|Abelseth, Miss. K...|\n",
      "|Abelseth, Mr. Ola...|\n",
      "| Abelson, Mr. Samuel|\n",
      "|Abelson, Mrs. Hannah|\n",
      "|Abī-Al-Munà, Mr. ...|\n",
      "|Abrahamsson, Mr. ...|\n",
      "|  Ådahl, Mr. Mauritz|\n",
      "|     Adams, Mr. John|\n",
      "|Ahlin, Mrs. Johan...|\n",
      "|Aks, Master. Fran...|\n",
      "|      Aks, Mrs. Leah|\n",
      "|Aldworth, Mr. Aug...|\n",
      "|Alexander, Mr. Wi...|\n",
      "|Alhomäki, Mr. Ilm...|\n",
      "|      Ali, Mr. Ahmed|\n",
      "|    Ali, Mr. William|\n",
      "+--------------------+\n",
      "only showing top 20 rows\n",
      "\n"
     ]
    }
   ],
   "source": [
    "df.select(\"name\").show()"
   ]
  },
  {
   "cell_type": "code",
   "execution_count": 14,
   "id": "184d1e17-3869-491c-9a22-ec73e6ebcaac",
   "metadata": {},
   "outputs": [
    {
     "data": {
      "text/plain": [
       "[('name', 'string'),\n",
       " ('gender', 'string'),\n",
       " ('age', 'string'),\n",
       " ('class', 'string'),\n",
       " ('embarked', 'string'),\n",
       " ('country', 'string'),\n",
       " ('ticketno', 'string'),\n",
       " ('fare', 'string'),\n",
       " ('sibsp', 'string'),\n",
       " ('parch', 'string'),\n",
       " ('survived', 'string')]"
      ]
     },
     "execution_count": 14,
     "metadata": {},
     "output_type": "execute_result"
    }
   ],
   "source": [
    "df.dtypes"
   ]
  },
  {
   "cell_type": "code",
   "execution_count": 15,
   "id": "d339f1ae-3e1e-4897-9e9a-bd20fa7aecb0",
   "metadata": {},
   "outputs": [
    {
     "name": "stdout",
     "output_type": "stream",
     "text": [
      "+--------------------+------+---+-----+--------+-------------+--------+-----+-----+-----+--------+----------+\n",
      "|                name|gender|age|class|embarked|      country|ticketno| fare|sibsp|parch|survived|name + age|\n",
      "+--------------------+------+---+-----+--------+-------------+--------+-----+-----+-----+--------+----------+\n",
      "| Abbing, Mr. Anthony|  male| 42|  3rd|       S|United States|    5547| 7.11|    0|    0|      no|      null|\n",
      "|Abbott, Mr. Eugen...|  male| 13|  3rd|       S|United States|    2673|20.05|    0|    2|      no|      null|\n",
      "|Abbott, Mr. Rossm...|  male| 16|  3rd|       S|United States|    2673|20.05|    1|    1|      no|      null|\n",
      "|Abbott, Mrs. Rhod...|female| 39|  3rd|       S|      England|    2673|20.05|    1|    1|     yes|      null|\n",
      "|Abelseth, Miss. K...|female| 16|  3rd|       S|       Norway|  348125| 7.13|    0|    0|     yes|      null|\n",
      "+--------------------+------+---+-----+--------+-------------+--------+-----+-----+-----+--------+----------+\n",
      "only showing top 5 rows\n",
      "\n"
     ]
    }
   ],
   "source": [
    "## add columns in the data frame\n",
    "df.withColumn(\"name + age\", df['name']+df['age']).show(5)"
   ]
  },
  {
   "cell_type": "code",
   "execution_count": 16,
   "id": "c96b527d-59ac-44bd-98b6-14cfab1a60da",
   "metadata": {},
   "outputs": [
    {
     "name": "stdout",
     "output_type": "stream",
     "text": [
      "+--------------------+------+---+-----+--------+-------------+--------+-----+-----+-----+--------+\n",
      "|                name|gender|age|class|embarked|      country|ticketno| fare|sibsp|parch|survived|\n",
      "+--------------------+------+---+-----+--------+-------------+--------+-----+-----+-----+--------+\n",
      "| Abbing, Mr. Anthony|  male| 42|  3rd|       S|United States|    5547| 7.11|    0|    0|      no|\n",
      "|Abbott, Mr. Eugen...|  male| 13|  3rd|       S|United States|    2673|20.05|    0|    2|      no|\n",
      "|Abbott, Mr. Rossm...|  male| 16|  3rd|       S|United States|    2673|20.05|    1|    1|      no|\n",
      "|Abbott, Mrs. Rhod...|female| 39|  3rd|       S|      England|    2673|20.05|    1|    1|     yes|\n",
      "|Abelseth, Miss. K...|female| 16|  3rd|       S|       Norway|  348125| 7.13|    0|    0|     yes|\n",
      "+--------------------+------+---+-----+--------+-------------+--------+-----+-----+-----+--------+\n",
      "only showing top 5 rows\n",
      "\n"
     ]
    }
   ],
   "source": [
    "df.show(5)"
   ]
  },
  {
   "cell_type": "code",
   "execution_count": 17,
   "id": "672d3027-b3d2-4f40-9a32-31c5e8379498",
   "metadata": {},
   "outputs": [
    {
     "name": "stdout",
     "output_type": "stream",
     "text": [
      "+--------------------+------+------------+-----+--------+-------------+--------+-------+-----+-----+--------+\n",
      "|                Name|gender|         age|class|embarked|      country|ticketno|   fare|sibsp|parch|survived|\n",
      "+--------------------+------+------------+-----+--------+-------------+--------+-------+-----+-----+--------+\n",
      "| Abbing, Mr. Anthony|  male|          42|  3rd|       S|United States|    5547|   7.11|    0|    0|      no|\n",
      "|Abbott, Mr. Eugen...|  male|          13|  3rd|       S|United States|    2673|  20.05|    0|    2|      no|\n",
      "|Abbott, Mr. Rossm...|  male|          16|  3rd|       S|United States|    2673|  20.05|    1|    1|      no|\n",
      "|Abbott, Mrs. Rhod...|female|          39|  3rd|       S|      England|    2673|  20.05|    1|    1|     yes|\n",
      "|Abelseth, Miss. K...|female|          16|  3rd|       S|       Norway|  348125|   7.13|    0|    0|     yes|\n",
      "|Abelseth, Mr. Ola...|  male|          25|  3rd|       S|United States|  348122|   7.13|    0|    0|     yes|\n",
      "| Abelson, Mr. Samuel|  male|          30|  2nd|       C|       France|    3381|     24|    1|    0|      no|\n",
      "|Abelson, Mrs. Hannah|female|          28|  2nd|       C|       France|    3381|     24|    1|    0|     yes|\n",
      "|Abī-Al-Munà, Mr. ...|  male|          27|  3rd|       C|      Lebanon|    2699|18.1509|    0|    0|     yes|\n",
      "|Abrahamsson, Mr. ...|  male|          20|  3rd|       S|      Finland| 3101284| 7.1806|    0|    0|     yes|\n",
      "|  Ådahl, Mr. Mauritz|  male|          30|  3rd|       S|       Sweden|    7076|   7.05|    0|    0|      no|\n",
      "|     Adams, Mr. John|  male|          27|  3rd|       S|      England|  341826|   8.01|    0|    0|      no|\n",
      "|Ahlin, Mrs. Johan...|female|          40|  3rd|       S|       Sweden|    7546| 9.0906|    1|    0|      no|\n",
      "|Aks, Master. Fran...|  male|0.8333333333|  3rd|       S|      England|  392091|   9.07|    0|    1|     yes|\n",
      "|      Aks, Mrs. Leah|female|          18|  3rd|       S|      England|  392091|   9.07|    0|    1|     yes|\n",
      "|Aldworth, Mr. Aug...|  male|          35|  2nd|       S|      England|  248744|     13|    0|    0|      no|\n",
      "|Alexander, Mr. Wi...|  male|          25|  3rd|       S|      England|    3474| 7.1709|    0|    0|      no|\n",
      "|Alhomäki, Mr. Ilm...|  male|          19|  3rd|       S|      Finland| 3101287| 7.1806|    0|    0|      no|\n",
      "|      Ali, Mr. Ahmed|  male|          24|  3rd|       S|    Argentina| 3101311|   7.01|    0|    0|      no|\n",
      "|    Ali, Mr. William|  male|          25|  3rd|       S|    Argentina| 3101312|   7.01|    0|    0|      no|\n",
      "+--------------------+------+------------+-----+--------+-------------+--------+-------+-----+-----+--------+\n",
      "only showing top 20 rows\n",
      "\n"
     ]
    }
   ],
   "source": [
    "# rename column\n",
    "df.withColumnRenamed(\"name\", \"Name\").show()"
   ]
  },
  {
   "cell_type": "code",
   "execution_count": 18,
   "id": "15b4bbe8-f359-4cf0-92d4-2fd5188b52cb",
   "metadata": {},
   "outputs": [
    {
     "name": "stdout",
     "output_type": "stream",
     "text": [
      "root\n",
      " |-- name: string (nullable = true)\n",
      " |-- gender: string (nullable = true)\n",
      " |-- age: double (nullable = true)\n",
      " |-- class: string (nullable = true)\n",
      " |-- embarked: string (nullable = true)\n",
      " |-- country: string (nullable = true)\n",
      " |-- ticketno: string (nullable = true)\n",
      " |-- fare: double (nullable = true)\n",
      " |-- sibsp: integer (nullable = true)\n",
      " |-- parch: integer (nullable = true)\n",
      " |-- survived: integer (nullable = true)\n",
      "\n"
     ]
    }
   ],
   "source": [
    "# change data type of columns\n",
    "from pyspark.sql.types import StructType, StructField, StringType, IntegerType, DoubleType\n",
    "\n",
    "schema = StructType([\n",
    "    StructField(\"name\", StringType(), True),\n",
    "    StructField(\"gender\", StringType(), True),\n",
    "    StructField(\"age\", DoubleType(), True),\n",
    "    StructField(\"class\", StringType(), True),\n",
    "    StructField(\"embarked\", StringType(), True),\n",
    "    StructField(\"country\", StringType(), True),\n",
    "    StructField(\"ticketno\", StringType(), True),\n",
    "    StructField(\"fare\", DoubleType(), True),\n",
    "    StructField(\"sibsp\", IntegerType(), True),\n",
    "    StructField(\"parch\", IntegerType(), True),\n",
    "    StructField(\"survived\", IntegerType(), True)\n",
    "])\n",
    "df = spark.read.csv(\"titanic.csv\", header=True, schema=schema)\n",
    "df.printSchema()"
   ]
  },
  {
   "cell_type": "code",
   "execution_count": 19,
   "id": "44366370-858c-4c0a-bbb4-b37f9d4768d9",
   "metadata": {},
   "outputs": [],
   "source": [
    "# add column\n",
    "df = df.withColumn(\"test\", df['age'])"
   ]
  },
  {
   "cell_type": "code",
   "execution_count": 20,
   "id": "fe8609bb-5346-4023-bccb-40dcc2b8b16f",
   "metadata": {},
   "outputs": [
    {
     "data": {
      "text/plain": [
       "Row(name='Abbing, Mr. Anthony', gender='male', age=42.0, class='3rd', embarked='S', country='United States', ticketno='5547', fare=7.11, sibsp=0, parch=0, survived=None, test=42.0)"
      ]
     },
     "execution_count": 20,
     "metadata": {},
     "output_type": "execute_result"
    }
   ],
   "source": [
    "df.head()"
   ]
  },
  {
   "cell_type": "code",
   "execution_count": 21,
   "id": "1b1817da-cfd0-43f9-919b-0b9519db9b1b",
   "metadata": {},
   "outputs": [],
   "source": [
    "df = df.drop(\"test\")"
   ]
  },
  {
   "cell_type": "markdown",
   "id": "2183cb2b-995a-4bf6-b72c-dd3966c05cd6",
   "metadata": {},
   "source": [
    "## Handling missing values"
   ]
  },
  {
   "cell_type": "code",
   "execution_count": 22,
   "id": "0e696730-a6af-4964-9d13-5def926708cd",
   "metadata": {},
   "outputs": [
    {
     "name": "stdout",
     "output_type": "stream",
     "text": [
      "+----+------+---+-----+--------+-------+--------+----+-----+-----+--------+\n",
      "|name|gender|age|class|embarked|country|ticketno|fare|sibsp|parch|survived|\n",
      "+----+------+---+-----+--------+-------+--------+----+-----+-----+--------+\n",
      "+----+------+---+-----+--------+-------+--------+----+-----+-----+--------+\n",
      "\n"
     ]
    }
   ],
   "source": [
    "df.na.drop().show()"
   ]
  },
  {
   "cell_type": "code",
   "execution_count": 23,
   "id": "323d132b-8f89-4e21-9b31-24551a2912d5",
   "metadata": {},
   "outputs": [
    {
     "name": "stdout",
     "output_type": "stream",
     "text": [
      "+--------------------+------+------------+-----+--------+-------------+--------+-------+-----+-----+--------+\n",
      "|                name|gender|         age|class|embarked|      country|ticketno|   fare|sibsp|parch|survived|\n",
      "+--------------------+------+------------+-----+--------+-------------+--------+-------+-----+-----+--------+\n",
      "| Abbing, Mr. Anthony|  male|        42.0|  3rd|       S|United States|    5547|   7.11|    0|    0|    null|\n",
      "|Abbott, Mr. Eugen...|  male|        13.0|  3rd|       S|United States|    2673|  20.05|    0|    2|    null|\n",
      "|Abbott, Mr. Rossm...|  male|        16.0|  3rd|       S|United States|    2673|  20.05|    1|    1|    null|\n",
      "|Abbott, Mrs. Rhod...|female|        39.0|  3rd|       S|      England|    2673|  20.05|    1|    1|    null|\n",
      "|Abelseth, Miss. K...|female|        16.0|  3rd|       S|       Norway|  348125|   7.13|    0|    0|    null|\n",
      "|Abelseth, Mr. Ola...|  male|        25.0|  3rd|       S|United States|  348122|   7.13|    0|    0|    null|\n",
      "| Abelson, Mr. Samuel|  male|        30.0|  2nd|       C|       France|    3381|   24.0|    1|    0|    null|\n",
      "|Abelson, Mrs. Hannah|female|        28.0|  2nd|       C|       France|    3381|   24.0|    1|    0|    null|\n",
      "|Abī-Al-Munà, Mr. ...|  male|        27.0|  3rd|       C|      Lebanon|    2699|18.1509|    0|    0|    null|\n",
      "|Abrahamsson, Mr. ...|  male|        20.0|  3rd|       S|      Finland| 3101284| 7.1806|    0|    0|    null|\n",
      "|  Ådahl, Mr. Mauritz|  male|        30.0|  3rd|       S|       Sweden|    7076|   7.05|    0|    0|    null|\n",
      "|     Adams, Mr. John|  male|        27.0|  3rd|       S|      England|  341826|   8.01|    0|    0|    null|\n",
      "|Ahlin, Mrs. Johan...|female|        40.0|  3rd|       S|       Sweden|    7546| 9.0906|    1|    0|    null|\n",
      "|Aks, Master. Fran...|  male|0.8333333333|  3rd|       S|      England|  392091|   9.07|    0|    1|    null|\n",
      "|      Aks, Mrs. Leah|female|        18.0|  3rd|       S|      England|  392091|   9.07|    0|    1|    null|\n",
      "|Aldworth, Mr. Aug...|  male|        35.0|  2nd|       S|      England|  248744|   13.0|    0|    0|    null|\n",
      "|Alexander, Mr. Wi...|  male|        25.0|  3rd|       S|      England|    3474| 7.1709|    0|    0|    null|\n",
      "|Alhomäki, Mr. Ilm...|  male|        19.0|  3rd|       S|      Finland| 3101287| 7.1806|    0|    0|    null|\n",
      "|      Ali, Mr. Ahmed|  male|        24.0|  3rd|       S|    Argentina| 3101311|   7.01|    0|    0|    null|\n",
      "|    Ali, Mr. William|  male|        25.0|  3rd|       S|    Argentina| 3101312|   7.01|    0|    0|    null|\n",
      "+--------------------+------+------------+-----+--------+-------------+--------+-------+-----+-----+--------+\n",
      "only showing top 20 rows\n",
      "\n"
     ]
    }
   ],
   "source": [
    "# drop na has 3 optional parameters\n",
    "# how : str, optional\n",
    "#     'any' or 'all'.\n",
    "#     If 'any', drop a row if it contains any nulls.\n",
    "#     If 'all', drop a row only if all its values are null.\n",
    "# thresh: int, optional\n",
    "#     default None\n",
    "#     If specified, drop rows that have less than `thresh` non-null values.\n",
    "#     This overwrites the `how` parameter.\n",
    "# subset : str, tuple or list, optional\n",
    "#     optional list of column names to consider.\n",
    "df.na.drop(how=\"any\", thresh=3).show()"
   ]
  },
  {
   "cell_type": "code",
   "execution_count": 24,
   "id": "9d014ec5-3231-4fa4-bdff-9dacf3a3dd4e",
   "metadata": {},
   "outputs": [
    {
     "name": "stdout",
     "output_type": "stream",
     "text": [
      "+---+-----+----+------+-----------+\n",
      "| id| name| age|gender|       city|\n",
      "+---+-----+----+------+-----------+\n",
      "|  1|Alice|  23|  null|   New York|\n",
      "|  2|  Bob|null|     M|Los Angeles|\n",
      "|  3| null|  35|     F|    Chicago|\n",
      "|  4|David|  40|     M|       null|\n",
      "+---+-----+----+------+-----------+\n",
      "\n"
     ]
    }
   ],
   "source": [
    "from pyspark.sql.types import StructType, StructField, StringType, IntegerType\n",
    "from pyspark.sql import Row\n",
    "\n",
    "# Initialize SparkSession\n",
    "spark = SparkSession.builder.appName(\"SampleTable\").getOrCreate()\n",
    "\n",
    "# Sample data with some null values\n",
    "data = [\n",
    "    (1, \"Alice\", 23, None, \"New York\"),\n",
    "    (2, \"Bob\", None, \"M\", \"Los Angeles\"),\n",
    "    (3, None, 35, \"F\", \"Chicago\"),\n",
    "    (4, \"David\", 40, \"M\", None)\n",
    "]\n",
    "\n",
    "# Define schema\n",
    "columns = [\"id\", \"name\", \"age\", \"gender\", \"city\"]\n",
    "\n",
    "# Create DataFrame\n",
    "df_w_null = spark.createDataFrame(data, columns)\n",
    "\n",
    "# Show DataFrame\n",
    "df_w_null.show()"
   ]
  },
  {
   "cell_type": "code",
   "execution_count": 25,
   "id": "37a24ea8-d23c-4e9c-9627-c4586e4508b7",
   "metadata": {},
   "outputs": [
    {
     "data": {
      "text/plain": [
       "DataFrame[id: bigint, name: string, age: bigint, gender: string, city: string]"
      ]
     },
     "execution_count": 25,
     "metadata": {},
     "output_type": "execute_result"
    }
   ],
   "source": [
    "df_w_null"
   ]
  },
  {
   "cell_type": "code",
   "execution_count": 26,
   "id": "e27facfb-8e9d-42a8-8d1b-1afb6676b239",
   "metadata": {},
   "outputs": [
    {
     "name": "stdout",
     "output_type": "stream",
     "text": [
      "+---+--------------+----+--------------+--------------+\n",
      "| id|          name| age|        gender|          city|\n",
      "+---+--------------+----+--------------+--------------+\n",
      "|  1|         Alice|  23|Missing values|      New York|\n",
      "|  2|           Bob|null|             M|   Los Angeles|\n",
      "|  3|Missing values|  35|             F|       Chicago|\n",
      "|  4|         David|  40|             M|Missing values|\n",
      "+---+--------------+----+--------------+--------------+\n",
      "\n"
     ]
    }
   ],
   "source": [
    "# fill missing values\n",
    "df_w_null.na.fill('Missing values').show()"
   ]
  },
  {
   "cell_type": "code",
   "execution_count": 28,
   "id": "b9b3a51a-87bc-4ccc-bda1-c24be5096ed4",
   "metadata": {},
   "outputs": [
    {
     "name": "stdout",
     "output_type": "stream",
     "text": [
      "+---+-----+----+------+--------------+\n",
      "| id| name| age|gender|          city|\n",
      "+---+-----+----+------+--------------+\n",
      "|  1|Alice|  23|  null|      New York|\n",
      "|  2|  Bob|null|     M|   Los Angeles|\n",
      "|  3| null|  35|     F|       Chicago|\n",
      "|  4|David|  40|     M|Missing values|\n",
      "+---+-----+----+------+--------------+\n",
      "\n"
     ]
    }
   ],
   "source": [
    "# replace null value with 'missing values' string in only city column\n",
    "df_w_null.na.fill('Missing values', 'city').show()"
   ]
  },
  {
   "cell_type": "code",
   "execution_count": 37,
   "id": "f1e49555-dc10-4ab4-b2bb-aa437451b6dc",
   "metadata": {},
   "outputs": [],
   "source": [
    "# replace with mean of the the gicen column\n",
    "from pyspark.ml.feature import Imputer\n",
    "\n",
    "imputer = Imputer(\n",
    "    inputCols=['age'],\n",
    "    outputCols=[f\"{c} imputed\" for c in ['age']]\n",
    "    ).setStrategy('mean')"
   ]
  },
  {
   "cell_type": "code",
   "execution_count": 38,
   "id": "69403e97-dd46-4a82-83c2-2d23d8d51232",
   "metadata": {},
   "outputs": [
    {
     "name": "stdout",
     "output_type": "stream",
     "text": [
      "+---+-----+----+------+-----------+-----------+\n",
      "| id| name| age|gender|       city|age imputed|\n",
      "+---+-----+----+------+-----------+-----------+\n",
      "|  1|Alice|  23|  null|   New York|         23|\n",
      "|  2|  Bob|null|     M|Los Angeles|         32|\n",
      "|  3| null|  35|     F|    Chicago|         35|\n",
      "|  4|David|  40|     M|       null|         40|\n",
      "+---+-----+----+------+-----------+-----------+\n",
      "\n"
     ]
    }
   ],
   "source": [
    "imputer.fit(df_w_null).transform(df_w_null).show()"
   ]
  },
  {
   "cell_type": "markdown",
   "id": "3f26687b-f966-453f-8197-e1d0a15367c6",
   "metadata": {},
   "source": [
    "## Filter operations"
   ]
  },
  {
   "cell_type": "code",
   "execution_count": 43,
   "id": "48523267-6060-4e79-b158-81a6fcd47301",
   "metadata": {},
   "outputs": [
    {
     "name": "stdout",
     "output_type": "stream",
     "text": [
      "+--------------------+------------+\n",
      "|                name|         age|\n",
      "+--------------------+------------+\n",
      "|Abbott, Mr. Eugen...|        13.0|\n",
      "|Abbott, Mr. Rossm...|        16.0|\n",
      "|Abbott, Mrs. Rhod...|        39.0|\n",
      "|Abelseth, Miss. K...|        16.0|\n",
      "|Abelseth, Mr. Ola...|        25.0|\n",
      "| Abelson, Mr. Samuel|        30.0|\n",
      "|Abelson, Mrs. Hannah|        28.0|\n",
      "|Abī-Al-Munà, Mr. ...|        27.0|\n",
      "|Abrahamsson, Mr. ...|        20.0|\n",
      "|  Ådahl, Mr. Mauritz|        30.0|\n",
      "|     Adams, Mr. John|        27.0|\n",
      "|Aks, Master. Fran...|0.8333333333|\n",
      "|      Aks, Mrs. Leah|        18.0|\n",
      "|Aldworth, Mr. Aug...|        35.0|\n",
      "|Alexander, Mr. Wi...|        25.0|\n",
      "|Alhomäki, Mr. Ilm...|        19.0|\n",
      "|      Ali, Mr. Ahmed|        24.0|\n",
      "|    Ali, Mr. William|        25.0|\n",
      "|Allen, Miss. Elis...|        29.0|\n",
      "|Allen, Mr. Willia...|        39.0|\n",
      "+--------------------+------------+\n",
      "only showing top 20 rows\n",
      "\n"
     ]
    }
   ],
   "source": [
    "# get people less than age of 40\n",
    "df.filter(\"age<40\").select(['name', 'age']).show()"
   ]
  },
  {
   "cell_type": "code",
   "execution_count": 44,
   "id": "ecdd305b-406f-4489-96ec-f69a61d4a1ae",
   "metadata": {},
   "outputs": [
    {
     "name": "stdout",
     "output_type": "stream",
     "text": [
      "+--------------------+------+------------+-----+--------+-------------+--------+-----+-----+-----+--------+\n",
      "|                name|gender|         age|class|embarked|      country|ticketno| fare|sibsp|parch|survived|\n",
      "+--------------------+------+------------+-----+--------+-------------+--------+-----+-----+-----+--------+\n",
      "|Abbott, Mr. Eugen...|  male|        13.0|  3rd|       S|United States|    2673|20.05|    0|    2|    null|\n",
      "|Abbott, Mr. Rossm...|  male|        16.0|  3rd|       S|United States|    2673|20.05|    1|    1|    null|\n",
      "|Abelseth, Miss. K...|female|        16.0|  3rd|       S|       Norway|  348125| 7.13|    0|    0|    null|\n",
      "|Aks, Master. Fran...|  male|0.8333333333|  3rd|       S|      England|  392091| 9.07|    0|    1|    null|\n",
      "|      Aks, Mrs. Leah|female|        18.0|  3rd|       S|      England|  392091| 9.07|    0|    1|    null|\n",
      "+--------------------+------+------------+-----+--------+-------------+--------+-----+-----+-----+--------+\n",
      "only showing top 5 rows\n",
      "\n"
     ]
    }
   ],
   "source": [
    "df.filter(df['age']<20).show(5)"
   ]
  },
  {
   "cell_type": "code",
   "execution_count": 46,
   "id": "5cc7c213-f326-418b-a9c1-9c3b4f9e8809",
   "metadata": {},
   "outputs": [
    {
     "name": "stdout",
     "output_type": "stream",
     "text": [
      "+--------------------+------+----+-----+--------+-------------+--------+------+-----+-----+--------+\n",
      "|                name|gender| age|class|embarked|      country|ticketno|  fare|sibsp|parch|survived|\n",
      "+--------------------+------+----+-----+--------+-------------+--------+------+-----+-----+--------+\n",
      "|Abbott, Mr. Rossm...|  male|16.0|  3rd|       S|United States|    2673| 20.05|    1|    1|    null|\n",
      "|Abelseth, Miss. K...|female|16.0|  3rd|       S|       Norway|  348125|  7.13|    0|    0|    null|\n",
      "|      Aks, Mrs. Leah|female|18.0|  3rd|       S|      England|  392091|  9.07|    0|    1|    null|\n",
      "|Alhomäki, Mr. Ilm...|  male|19.0|  3rd|       S|      Finland| 3101287|7.1806|    0|    0|    null|\n",
      "|Allum, Mr. Owen G...|  male|18.0|  3rd|       S|      England|    2223|  8.06|    0|    0|    null|\n",
      "+--------------------+------+----+-----+--------+-------------+--------+------+-----+-----+--------+\n",
      "only showing top 5 rows\n",
      "\n"
     ]
    }
   ],
   "source": [
    "df.filter((df['age']<20) & (df['age'] >15)).show(5)"
   ]
  },
  {
   "cell_type": "code",
   "execution_count": 48,
   "id": "a7591864-1491-424a-8cc4-3a3209685fab",
   "metadata": {},
   "outputs": [
    {
     "name": "stdout",
     "output_type": "stream",
     "text": [
      "+--------------------+------+----+-----+--------+-------+--------+------+-----+-----+--------+\n",
      "|                name|gender| age|class|embarked|country|ticketno|  fare|sibsp|parch|survived|\n",
      "+--------------------+------+----+-----+--------+-------+--------+------+-----+-----+--------+\n",
      "|      Aks, Mrs. Leah|female|18.0|  3rd|       S|England|  392091|  9.07|    0|    1|    null|\n",
      "|Alhomäki, Mr. Ilm...|  male|19.0|  3rd|       S|Finland| 3101287|7.1806|    0|    0|    null|\n",
      "|Allum, Mr. Owen G...|  male|18.0|  3rd|       S|England|    2223|  8.06|    0|    0|    null|\n",
      "|Al-Munà, Mr. Farī...|  male|19.0|  3rd|       C|Lebanon|    2700|7.0407|    0|    0|    null|\n",
      "|Andersen-Jensen, ...|female|19.0|  3rd|       S|Denmark|  350046|7.1701|    1|    0|    null|\n",
      "+--------------------+------+----+-----+--------+-------+--------+------+-----+-----+--------+\n",
      "only showing top 5 rows\n",
      "\n"
     ]
    }
   ],
   "source": [
    "df.filter((df['age']==18) | (df['age']==19)).show(5)"
   ]
  },
  {
   "cell_type": "code",
   "execution_count": 49,
   "id": "61e2dc3e-adc5-4e6b-b704-b5ebe308a311",
   "metadata": {},
   "outputs": [
    {
     "name": "stdout",
     "output_type": "stream",
     "text": [
      "+--------------------+------+----+-----+--------+-------------+--------+-----+-----+-----+--------+\n",
      "|                name|gender| age|class|embarked|      country|ticketno| fare|sibsp|parch|survived|\n",
      "+--------------------+------+----+-----+--------+-------------+--------+-----+-----+-----+--------+\n",
      "| Abbing, Mr. Anthony|  male|42.0|  3rd|       S|United States|    5547| 7.11|    0|    0|    null|\n",
      "|Abbott, Mrs. Rhod...|female|39.0|  3rd|       S|      England|    2673|20.05|    1|    1|    null|\n",
      "|Abelseth, Mr. Ola...|  male|25.0|  3rd|       S|United States|  348122| 7.13|    0|    0|    null|\n",
      "| Abelson, Mr. Samuel|  male|30.0|  2nd|       C|       France|    3381| 24.0|    1|    0|    null|\n",
      "|Abelson, Mrs. Hannah|female|28.0|  2nd|       C|       France|    3381| 24.0|    1|    0|    null|\n",
      "+--------------------+------+----+-----+--------+-------------+--------+-----+-----+-----+--------+\n",
      "only showing top 5 rows\n",
      "\n"
     ]
    }
   ],
   "source": [
    "# inverse function\n",
    "df.filter(~(df['age']<20)).show(5)"
   ]
  },
  {
   "cell_type": "markdown",
   "id": "b489a08c-42ee-4d5d-aff7-09068e5ae35d",
   "metadata": {},
   "source": [
    "## GroupBy and Aggregate"
   ]
  },
  {
   "cell_type": "code",
   "execution_count": 50,
   "id": "b7ca4146-6604-4373-bc13-09ec9de6101c",
   "metadata": {},
   "outputs": [
    {
     "data": {
      "text/plain": [
       "<pyspark.sql.group.GroupedData at 0x1565089a0>"
      ]
     },
     "execution_count": 50,
     "metadata": {},
     "output_type": "execute_result"
    }
   ],
   "source": [
    "# groupby\n",
    "df.groupBy('name')"
   ]
  },
  {
   "cell_type": "code",
   "execution_count": 54,
   "id": "c56f4ef9-d8d7-47e3-b36a-42ff81f8aaa0",
   "metadata": {},
   "outputs": [
    {
     "name": "stdout",
     "output_type": "stream",
     "text": [
      "+--------------------+--------+---------+----------+----------+-------------+\n",
      "|                name|sum(age)|sum(fare)|sum(sibsp)|sum(parch)|sum(survived)|\n",
      "+--------------------+--------+---------+----------+----------+-------------+\n",
      "|Chibnall, Mrs. Ed...|    48.0|     55.0|         0|         1|         null|\n",
      "| Leroy, Miss. Berthe|    27.0| 106.0806|         0|         0|         null|\n",
      "|Lockyer, Mr. Edwa...|    19.0|   7.1707|         0|         0|         null|\n",
      "|Parr, Mr. William...|    30.0|     null|         0|         0|         null|\n",
      "|Rosblom, Miss. Sa...|     2.0|  20.0403|         1|         1|         null|\n",
      "|Young, Miss. Mari...|    36.0| 135.1208|         0|         0|         null|\n",
      "|   Blaney, Mr. James|    32.0|     null|      null|      null|         null|\n",
      "|Broom, Mr. Herber...|    33.0|     null|      null|      null|         null|\n",
      "|Noss, Mr. Bertram...|    21.0|     null|      null|      null|         null|\n",
      "|Abrahamsson, Mr. ...|    20.0|   7.1806|         0|         0|         null|\n",
      "|    Dimic, Mr. Jovan|    42.0|   8.1303|         0|         0|         null|\n",
      "|Harper, Mr. Henry...|    48.0|  76.1407|         1|         0|         null|\n",
      "|Jabbur (Zabour), ...|    19.0|  14.0901|         1|         0|         null|\n",
      "|Madigan, Miss. Ma...|    21.0|     7.15|         0|         0|         null|\n",
      "|Stengel, Mrs. Ann...|    43.0|   55.081|         1|         0|         null|\n",
      "|Woodward, Mr. Joh...|    32.0|     null|      null|      null|         null|\n",
      "|Bristow, Mr. Robe...|    31.0|     null|      null|      null|         null|\n",
      "|   Casey, Mr. Thomas|    44.0|     null|      null|      null|         null|\n",
      "|Hodgkinson, Mr. L...|    46.0|     null|      null|      null|         null|\n",
      "|Mabey, Mr. John C...|    24.0|     null|      null|      null|         null|\n",
      "+--------------------+--------+---------+----------+----------+-------------+\n",
      "only showing top 20 rows\n",
      "\n"
     ]
    }
   ],
   "source": [
    "df.groupBy('name').sum().show()"
   ]
  },
  {
   "cell_type": "code",
   "execution_count": 62,
   "id": "2478c8b4-5ac8-4b39-82e5-a6ea77b15b52",
   "metadata": {},
   "outputs": [
    {
     "name": "stdout",
     "output_type": "stream",
     "text": [
      "+----------------+------------------+\n",
      "|           class|          avg(age)|\n",
      "+----------------+------------------+\n",
      "|             2nd|29.919014084506696|\n",
      "|       deck crew| 34.18181818181818|\n",
      "|             1st|39.163323045267596|\n",
      "|engineering crew| 31.25925925925926|\n",
      "|victualling crew|32.559164733178655|\n",
      "|restaurant staff|25.420289855072465|\n",
      "|             3rd| 25.13873173031584|\n",
      "+----------------+------------------+\n",
      "\n"
     ]
    }
   ],
   "source": [
    "# group by class and get avg age\n",
    "df.groupBy('class').mean().select(['class', 'avg(age)']).show()"
   ]
  },
  {
   "cell_type": "code",
   "execution_count": 69,
   "id": "61bbef80-ea1b-408f-90e5-4a2005fb52e3",
   "metadata": {},
   "outputs": [
    {
     "name": "stdout",
     "output_type": "stream",
     "text": [
      "+------------------+\n",
      "|          avg(age)|\n",
      "+------------------+\n",
      "|30.444444444444397|\n",
      "+------------------+\n",
      "\n"
     ]
    }
   ],
   "source": [
    "df.agg({'age':'mean'}).show()"
   ]
  },
  {
   "cell_type": "code",
   "execution_count": 72,
   "id": "642b71c0-7246-4e53-b8b1-f2ce9f1ba6e8",
   "metadata": {},
   "outputs": [
    {
     "name": "stdout",
     "output_type": "stream",
     "text": [
      "+----------------+--------+\n",
      "|           class|max(age)|\n",
      "+----------------+--------+\n",
      "|             2nd|    72.0|\n",
      "|       deck crew|    63.0|\n",
      "|             1st|    71.0|\n",
      "|engineering crew|    61.0|\n",
      "|victualling crew|    59.0|\n",
      "|restaurant staff|    49.0|\n",
      "|             3rd|    74.0|\n",
      "+----------------+--------+\n",
      "\n"
     ]
    }
   ],
   "source": [
    "# oldes person in each class\n",
    "df.groupBy('class').max().select(['class', 'max(age)']).show()"
   ]
  },
  {
   "cell_type": "code",
   "execution_count": null,
   "id": "5e1bb00d-acc1-4456-baf7-96fcf10ef644",
   "metadata": {},
   "outputs": [],
   "source": []
  }
 ],
 "metadata": {
  "kernelspec": {
   "display_name": "Python 3 (ipykernel)",
   "language": "python",
   "name": "python3"
  },
  "language_info": {
   "codemirror_mode": {
    "name": "ipython",
    "version": 3
   },
   "file_extension": ".py",
   "mimetype": "text/x-python",
   "name": "python",
   "nbconvert_exporter": "python",
   "pygments_lexer": "ipython3",
   "version": "3.10.16"
  }
 },
 "nbformat": 4,
 "nbformat_minor": 5
}
